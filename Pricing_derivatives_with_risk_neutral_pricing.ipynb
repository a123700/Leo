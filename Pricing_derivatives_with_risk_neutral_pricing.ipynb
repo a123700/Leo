{
  "nbformat": 4,
  "nbformat_minor": 0,
  "metadata": {
    "colab": {
      "provenance": [],
      "toc_visible": true,
      "authorship_tag": "ABX9TyPMfgPJXda2D++2YxQw32Qv",
      "include_colab_link": true
    },
    "kernelspec": {
      "name": "python3",
      "display_name": "Python 3"
    },
    "language_info": {
      "name": "python"
    },
    "gpuClass": "standard"
  },
  "cells": [
    {
      "cell_type": "markdown",
      "metadata": {
        "id": "view-in-github",
        "colab_type": "text"
      },
      "source": [
        "<a href=\"https://colab.research.google.com/github/a123700/Leo/blob/master/Pricing_derivatives_with_risk_neutral_pricing.ipynb\" target=\"_parent\"><img src=\"https://colab.research.google.com/assets/colab-badge.svg\" alt=\"Open In Colab\"/></a>"
      ]
    },
    {
      "cell_type": "code",
      "source": [
        "!pip install -q yfinance"
      ],
      "metadata": {
        "colab": {
          "base_uri": "https://localhost:8080/"
        },
        "id": "vnMOgVZsSG5J",
        "outputId": "aa474fa0-c915-422c-b7fb-596fb71cbb63"
      },
      "execution_count": null,
      "outputs": [
        {
          "output_type": "stream",
          "name": "stdout",
          "text": [
            "\u001b[?25l\r\u001b[K     |█████▏                          | 10 kB 29.9 MB/s eta 0:00:01\r\u001b[K     |██████████▍                     | 20 kB 39.6 MB/s eta 0:00:01\r\u001b[K     |███████████████▋                | 30 kB 49.3 MB/s eta 0:00:01\r\u001b[K     |████████████████████▉           | 40 kB 31.4 MB/s eta 0:00:01\r\u001b[K     |██████████████████████████      | 51 kB 29.5 MB/s eta 0:00:01\r\u001b[K     |███████████████████████████████▎| 61 kB 33.3 MB/s eta 0:00:01\r\u001b[K     |████████████████████████████████| 62 kB 1.3 MB/s \n",
            "\u001b[?25h"
          ]
        }
      ]
    },
    {
      "cell_type": "code",
      "execution_count": null,
      "metadata": {
        "id": "UlXtuWE_RduR"
      },
      "outputs": [],
      "source": [
        "# Import dependencies\n",
        "import math\n",
        "import numpy as np\n",
        "import pandas as pd\n",
        "import datetime\n",
        "import scipy.stats as stats\n",
        "import matplotlib.pyplot as plt\n",
        "import yfinance as yf\n",
        "# from pandas_datareader import data as pdr"
      ]
    },
    {
      "cell_type": "markdown",
      "source": [
        "# Compute VaR and CVaR with historical data"
      ],
      "metadata": {
        "id": "cQG3q0hT8dQC"
      }
    },
    {
      "cell_type": "code",
      "source": [
        "oex = ['0050.TW', '2454.TW']\n",
        "\n",
        "num_stocks = len(oex)\n",
        "\n",
        "data = yf.download(oex, start='1990-01-01', end='2016-04-04')\n",
        "\n",
        "returns = data['Adj Close'].pct_change()\n",
        "returns = returns - returns.mean(skipna=True) # de-mean the returns"
      ],
      "metadata": {
        "colab": {
          "base_uri": "https://localhost:8080/"
        },
        "id": "6kESfyeG26bb",
        "outputId": "2bff4b72-d415-4939-ad1b-49a6d40862fa"
      },
      "execution_count": null,
      "outputs": [
        {
          "output_type": "stream",
          "name": "stdout",
          "text": [
            "[*********************100%***********************]  2 of 2 completed\n"
          ]
        }
      ]
    },
    {
      "cell_type": "code",
      "source": [
        "def scale(x):\n",
        "    return x / np.sum(np.abs(x))\n",
        "\n",
        "weights = [0.75, 0.25]\n",
        "plt.bar(np.arange(num_stocks),weights)\n",
        "plt.show()"
      ],
      "metadata": {
        "colab": {
          "base_uri": "https://localhost:8080/",
          "height": 265
        },
        "id": "y4Rr6zmh29WB",
        "outputId": "e7072d20-12ee-4abe-bec5-fda42b2e9818"
      },
      "execution_count": null,
      "outputs": [
        {
          "output_type": "display_data",
          "data": {
            "text/plain": [
              "<Figure size 432x288 with 1 Axes>"
            ],
            "image/png": "[encoded data removed]"
          },
          "metadata": {
            "needs_background": "light"
          }
        }
      ]
    },
    {
      "cell_type": "code",
      "source": [
        "def value_at_risk(\n",
        "    value_invested, \n",
        "    returns, weights, \n",
        "    alpha=0.95, \n",
        "    lookback_days=500\n",
        "):\n",
        "    returns = returns.fillna(0.0)\n",
        "    portfolio_returns = returns.iloc[-lookback_days:].dot(weights)\n",
        "    \n",
        "    return np.percentile(portfolio_returns, 100 * (1-alpha)) * value_invested"
      ],
      "metadata": {
        "id": "ucstVWAY2_7E"
      },
      "execution_count": null,
      "outputs": []
    },
    {
      "cell_type": "code",
      "source": [
        "def cvar(\n",
        "    value_invested, \n",
        "    returns, \n",
        "    weights, \n",
        "    alpha=0.95, \n",
        "    lookback_days=500\n",
        "):\n",
        "    var = value_at_risk(value_invested, returns, weights, alpha, lookback_days=lookback_days)\n",
        "    \n",
        "    returns = returns.fillna(0.0)\n",
        "    portfolio_returns = returns.iloc[-lookback_days:].dot(weights)\n",
        "    var_pct_loss = var / value_invested\n",
        "    \n",
        "    return np.nanmean(portfolio_returns[portfolio_returns < var_pct_loss]) * value_invested"
      ],
      "metadata": {
        "id": "Qd8HVU1M3IJy"
      },
      "execution_count": null,
      "outputs": []
    },
    {
      "cell_type": "code",
      "source": [
        "value_invested = 100000\n",
        "lookback_days = 2000\n",
        "\n",
        "print(cvar(value_invested, returns, weights, lookback_days=lookback_days))\n",
        "print(value_at_risk(value_invested, returns, weights, lookback_days=lookback_days))"
      ],
      "metadata": {
        "colab": {
          "base_uri": "https://localhost:8080/"
        },
        "id": "gcBulfkK3L-z",
        "outputId": "823c1640-d8fe-4358-b774-dc2f256c1dea"
      },
      "execution_count": null,
      "outputs": [
        {
          "output_type": "stream",
          "name": "stdout",
          "text": [
            "-3608.1254324397983\n",
            "-2313.137898764439\n"
          ]
        }
      ]
    },
    {
      "cell_type": "code",
      "source": [
        "portfolio_returns = returns.fillna(0.0).iloc[-lookback_days:].dot(weights)\n",
        "\n",
        "portfolio_VaR = value_at_risk(value_invested, returns, weights)\n",
        "portfolio_VaR_return = portfolio_VaR / value_invested\n",
        "\n",
        "portfolio_CVaR = cvar(value_invested, returns, weights)\n",
        "portfolio_CVaR_return = portfolio_CVaR / value_invested\n",
        "\n",
        "plt.hist(portfolio_returns[portfolio_returns > portfolio_VaR_return], bins=20)\n",
        "plt.hist(portfolio_returns[portfolio_returns < portfolio_VaR_return], bins=10)\n",
        "plt.axvline(portfolio_VaR_return, color='red', linestyle='solid')\n",
        "plt.axvline(portfolio_CVaR_return, color='red', linestyle='dashed')\n",
        "plt.legend(['VaR', 'CVaR', 'Returns', 'Returns < VaR'])\n",
        "plt.title('Historical VaR and CVaR')\n",
        "plt.xlabel('Return')\n",
        "plt.ylabel('Observation Frequency')\n",
        "plt.show()"
      ],
      "metadata": {
        "colab": {
          "base_uri": "https://localhost:8080/",
          "height": 295
        },
        "id": "tPIq-x613OQE",
        "outputId": "9ba4264c-d752-4e3d-9816-79303bde8af5"
      },
      "execution_count": null,
      "outputs": [
        {
          "output_type": "display_data",
          "data": {
            "text/plain": [
              "<Figure size 432x288 with 1 Axes>"
            ],
            "image/png": "[encoded data removed]"
          },
          "metadata": {
            "needs_background": "light"
          }
        }
      ]
    },
    {
      "cell_type": "markdown",
      "source": [
        "# Compute VaR and CVaR with MC simulation"
      ],
      "metadata": {
        "id": "778_NUVr8sSY"
      }
    },
    {
      "cell_type": "code",
      "source": [
        "# import data\n",
        "def get_data(stocks, start, end):\n",
        "    stockData = yf.download(stocks, start, end)\n",
        "    stockData = stockData['Close']\n",
        "    returns = stockData.pct_change()\n",
        "    meanReturns = returns.mean()\n",
        "    covMatrix = returns.cov()\n",
        "    return meanReturns, covMatrix"
      ],
      "metadata": {
        "id": "ubqwXpF9SjBL"
      },
      "execution_count": null,
      "outputs": []
    },
    {
      "cell_type": "code",
      "source": [
        "stockList = ['2454', '0050']\n",
        "stocks = [stock + '.TW' for stock in stockList]\n",
        "endDate = datetime.datetime.now()\n",
        "startDate = endDate - datetime.timedelta(days=lookback_days)\n",
        "\n",
        "meanReturns, covMatrix = get_data(stocks, startDate, endDate)\n",
        "\n",
        "weights = np.random.random(len(meanReturns))\n",
        "weights /= np.sum(weights)"
      ],
      "metadata": {
        "colab": {
          "base_uri": "https://localhost:8080/"
        },
        "id": "8P8BKS7hSnUp",
        "outputId": "f3710657-d947-4f98-fd35-5664b79dbffe"
      },
      "execution_count": null,
      "outputs": [
        {
          "output_type": "stream",
          "name": "stdout",
          "text": [
            "[*********************100%***********************]  2 of 2 completed\n"
          ]
        }
      ]
    },
    {
      "cell_type": "code",
      "source": [
        "# Monte Carlo Method\n",
        "mc_sims = 10000 # number of simulations\n",
        "T = lookback_days #timeframe in days\n",
        "\n",
        "meanM = np.full(shape=(T, len(weights)), fill_value=meanReturns)\n",
        "meanM = meanM.T\n",
        "\n",
        "portfolio_sims = np.full(shape=(T, mc_sims), fill_value=0.0)\n",
        "\n",
        "initialPortfolio = value_invested\n",
        "\n",
        "for m in range(0, mc_sims):\n",
        "    Z = np.random.normal(size=(T, len(weights)))#uncorrelated RV's\n",
        "    L = np.linalg.cholesky(covMatrix) #Cholesky decomposition to Lower Triangular Matrix\n",
        "    dailyReturns = meanM + np.inner(L, Z) #Correlated daily returns for individual stocks\n",
        "    portfolio_sims[:,m] = np.cumprod(np.inner(weights, dailyReturns.T)+1)*initialPortfolio"
      ],
      "metadata": {
        "id": "TZK1p89tStUM"
      },
      "execution_count": null,
      "outputs": []
    },
    {
      "cell_type": "code",
      "source": [
        "plt.plot(portfolio_sims)\n",
        "plt.ylabel('Portfolio Value ($)')\n",
        "plt.xlabel('Days')\n",
        "plt.title('MC simulation of a stock portfolio')\n",
        "plt.show()"
      ],
      "metadata": {
        "colab": {
          "base_uri": "https://localhost:8080/"
        },
        "id": "j5Y5c2OeTH3W",
        "outputId": "b84ea9e3-9f4d-4c6f-f284-9a1c08a8e3fb"
      },
      "execution_count": null,
      "outputs": [
        {
          "output_type": "display_data",
          "data": {
            "text/plain": [
              "<Figure size 432x288 with 1 Axes>"
            ],
            "image/png": "[encoded data removed]"
          },
          "metadata": {
            "needs_background": "light"
          }
        }
      ]
    },
    {
      "cell_type": "code",
      "source": [
        "def mcVaR(returns, alpha=5):\n",
        "    \"\"\" Input: pandas series of returns\n",
        "        Output: percentile on return distribution to a given confidence level alpha\n",
        "    \"\"\"\n",
        "    if isinstance(returns, pd.Series):\n",
        "        return np.percentile(returns, alpha)\n",
        "    else:\n",
        "        raise TypeError(\"Expected a pandas data series.\")\n",
        "\n",
        "def mcCVaR(returns, alpha=5):\n",
        "    \"\"\" Input: pandas series of returns\n",
        "        Output: CVaR or Expected Shortfall to a given confidence level alpha\n",
        "    \"\"\"\n",
        "    if isinstance(returns, pd.Series):\n",
        "        belowVaR = returns <= mcVaR(returns, alpha=alpha)\n",
        "        return returns[belowVaR].mean()\n",
        "    else:\n",
        "        raise TypeError(\"Expected a pandas data series.\")"
      ],
      "metadata": {
        "id": "02MMUEFRTNNk"
      },
      "execution_count": null,
      "outputs": []
    },
    {
      "cell_type": "code",
      "source": [
        "portResults = pd.Series(portfolio_sims[-1,:])\n",
        "\n",
        "VaR = initialPortfolio - mcVaR(portResults, alpha=5)\n",
        "CVaR = initialPortfolio - mcCVaR(portResults, alpha=5)\n",
        "\n",
        "print('VaR_5 ${}'.format(round(VaR,2)))\n",
        "print('CVaR_5 ${}'.format(round(CVaR,2)))"
      ],
      "metadata": {
        "colab": {
          "base_uri": "https://localhost:8080/"
        },
        "id": "pszwBh6KRf-5",
        "outputId": "aceb62a3-0737-4f5c-de71-21eb43951b58"
      },
      "execution_count": null,
      "outputs": [
        {
          "output_type": "stream",
          "name": "stdout",
          "text": [
            "VaR_5 $17381.07\n",
            "CVaR_5 $34754.25\n"
          ]
        }
      ]
    },
    {
      "cell_type": "code",
      "source": [
        "profolio_returns = portfolio_sims[0]/initialPortfolio -1\n",
        "VaR_returns = -VaR/initialPortfolio\n",
        "CVaR_returns = -CVaR/initialPortfolio\n",
        "\n",
        "plt.hist(portfolio_returns[portfolio_returns > VaR_returns], bins=20)\n",
        "plt.hist(portfolio_returns[portfolio_returns < VaR_returns], bins=10)\n",
        "plt.axvline(VaR_returns, color='red', linestyle='solid')\n",
        "plt.axvline(CVaR_returns, color='red', linestyle='dashed')\n",
        "plt.legend(['VaR', 'CVaR', 'Returns', 'Returns < VaR'])\n",
        "plt.title('Historical VaR and CVaR')\n",
        "plt.xlabel('Return')\n",
        "plt.ylabel('Observation Frequency')\n",
        "plt.show()"
      ],
      "metadata": {
        "colab": {
          "base_uri": "https://localhost:8080/",
          "height": 295
        },
        "id": "Kp4MigOnv4x2",
        "outputId": "adb20983-bc08-4be0-8245-a43cf47c7b8b"
      },
      "execution_count": null,
      "outputs": [
        {
          "output_type": "display_data",
          "data": {
            "text/plain": [
              "<Figure size 432x288 with 1 Axes>"
            ],
            "image/png": "[encoded data removed]"
          },
          "metadata": {
            "needs_background": "light"
          }
        }
      ]
    },
    {
      "cell_type": "markdown",
      "source": [
        "# Pricing derivatives with risk-neutral pricing \n",
        "## (Brownian Motion is representative of risk-neutral probabilities under ℚ-measure)"
      ],
      "metadata": {
        "id": "HvXtaLkzuap-"
      }
    },
    {
      "cell_type": "markdown",
      "source": [
        "Valuation of Financial Derivatives through Monte Carlo Simulations is only possible by using the Financial Mathematics of Risk-Neutral Pricing and simulating risk-neutral asset paths.\n",
        "\n",
        "CtBt=𝔼ℚ[CTBT∣Ft]\n",
        "\n",
        "Note: This is the Risk-neutral Expectation Pricing Formula in Continuous Time"
      ],
      "metadata": {
        "id": "xmXmbZstuNzl"
      }
    },
    {
      "cell_type": "code",
      "source": [
        "def vol_cal(stock_name):\n",
        "  stock = yf.download(stock_name, '2010-01-01')['Close']\n",
        "  change = stock.pct_change().dropna()\n",
        "  return stock[-1]*5, np.std(change, ddof=1)"
      ],
      "metadata": {
        "id": "ED8C3c84oiME"
      },
      "execution_count": null,
      "outputs": []
    },
    {
      "cell_type": "code",
      "source": [
        "# initial derivative parameters \n",
        "S, vol = vol_cal('^TWII')         #stock price and volatility (%)\n",
        "K = 14500*5          #strike price\n",
        "r = 0.02            #risk-free rate (%)\n",
        "N = 100              #number of time steps\n",
        "M = 1000            #number of simulations\n",
        "\n",
        "market_value = 305 #market price of option\n",
        "T = ((datetime.date(2023, 1, 18)-datetime.date(2022, 12, 18)).days+1)/365    #time in years\n",
        "assert T > 0, 'Wrong Timeframe'"
      ],
      "metadata": {
        "colab": {
          "base_uri": "https://localhost:8080/"
        },
        "id": "ljrOhq9bRu9K",
        "outputId": "688bb399-c892-4e9e-894a-7ac988078e49"
      },
      "execution_count": null,
      "outputs": [
        {
          "output_type": "stream",
          "name": "stdout",
          "text": [
            "\r[*********************100%***********************]  1 of 1 completed\n"
          ]
        }
      ]
    },
    {
      "cell_type": "markdown",
      "source": [
        "# Iteration Solution\n"
      ],
      "metadata": {
        "id": "sphBIkJiyu2X"
      }
    },
    {
      "cell_type": "code",
      "source": [
        "# # Precompute constants\n",
        "# dt = T/N\n",
        "# nudt = (r - 0.5*vol**2)*dt\n",
        "# volsdt = vol*np.sqrt(dt)\n",
        "# lnS = np.log(S)\n",
        "\n",
        "# # Standard Error Placeholders\n",
        "# sum_CT = 0\n",
        "# sum_CT2 = 0\n",
        "\n",
        "# # Monte Carlo Method\n",
        "# for i in range(M):\n",
        "#     lnSt = lnS\n",
        "#     for j in range(N):\n",
        "#         lnSt = lnSt + nudt + volsdt*np.random.normal()\n",
        "    \n",
        "#     ST = np.exp(lnSt)\n",
        "#     CT = max(0, ST - K)\n",
        "#     sum_CT = sum_CT + CT\n",
        "#     sum_CT2 = sum_CT2 + CT*CT\n",
        "\n",
        "# # Compute Expectation and SE\n",
        "# C0 = np.exp(-r*T)*sum_CT/M\n",
        "# sigma = np.sqrt( (sum_CT2 - sum_CT*sum_CT/M)*np.exp(-2*r*T) / (M-1) )\n",
        "# SE = sigma/np.sqrt(M)\n",
        "\n",
        "# print(\"Call value is ${0} with SE +/- {1}\".format(np.round(C0,2),np.round(SE,2)))"
      ],
      "metadata": {
        "id": "ieyR8zslRw2K"
      },
      "execution_count": null,
      "outputs": []
    },
    {
      "cell_type": "markdown",
      "source": [
        "# Vectorized Solution\n"
      ],
      "metadata": {
        "id": "RWpmkJDvyzqW"
      }
    },
    {
      "cell_type": "code",
      "source": [
        "#precompute constants\n",
        "dt = T/N\n",
        "nudt = (r - 0.5*vol**2)*dt\n",
        "volsdt = vol*np.sqrt(dt)\n",
        "lnS = np.log(S)\n",
        "\n",
        "# Monte Carlo Method\n",
        "Z = np.random.normal(size=(N, M)) \n",
        "delta_lnSt = nudt + volsdt*Z \n",
        "lnSt = lnS + np.cumsum(delta_lnSt, axis=0)\n",
        "lnSt = np.concatenate( (np.full(shape=(1, M), fill_value=lnS), lnSt ) )\n",
        "\n",
        "# Compute Expectation and SE\n",
        "ST = np.exp(lnSt)\n",
        "CT = np.maximum(0, ST - K)\n",
        "C0 = np.exp(-r*T)*np.sum(CT[-1])/M\n",
        "\n",
        "sigma = np.sqrt( np.sum( (CT[-1] - C0)**2) / (M-1) )\n",
        "SE = sigma/np.sqrt(M)\n",
        "\n",
        "print(\"Call value is ${0} with SE +/- {1}\".format(np.round(C0,2),np.round(SE,2)))"
      ],
      "metadata": {
        "colab": {
          "base_uri": "https://localhost:8080/"
        },
        "id": "jkVBiiFqRyrI",
        "outputId": "7d8bba16-e61b-4b8d-c140-2d8e1250b059"
      },
      "execution_count": null,
      "outputs": [
        {
          "output_type": "stream",
          "name": "stdout",
          "text": [
            "Call value is $278.62 with SE +/- 6.02\n"
          ]
        }
      ]
    },
    {
      "cell_type": "markdown",
      "source": [
        "For simple processes where the SDE does not need to be approximated like in the case of Geometric Brownian Motion used for calculating a European Option Price, we can just simulate the variables at the final Time Step as Brownian Motion scales with time and independent increments."
      ],
      "metadata": {
        "id": "wcexQA0Zy5G0"
      }
    },
    {
      "cell_type": "code",
      "source": [
        "#precompute constants\n",
        "N = 1\n",
        "dt = T/N\n",
        "nudt = (r - 0.5*vol**2)*dt\n",
        "volsdt = vol*np.sqrt(dt)\n",
        "lnS = np.log(S)\n",
        "\n",
        "# Monte Carlo Method\n",
        "Z = np.random.normal(size=(N, M)) \n",
        "delta_lnSt = nudt + volsdt*Z \n",
        "lnSt = lnS + np.cumsum(delta_lnSt, axis=0)\n",
        "lnSt = np.concatenate( (np.full(shape=(1, M), fill_value=lnS), lnSt ) )\n",
        "\n",
        "# Compute Expectation and SE\n",
        "ST = np.exp(lnSt)\n",
        "CT = np.maximum(0, ST - K)\n",
        "C0 = np.exp(-r*T)*np.sum(CT[-1])/M\n",
        "\n",
        "sigma = np.sqrt( np.sum( (CT[-1] - C0)**2) / (M-1) )\n",
        "SE = sigma/np.sqrt(M)\n",
        "\n",
        "print(\"Call value is ${0} with SE +/- {1}\".format(np.round(C0,2),np.round(SE,2)))"
      ],
      "metadata": {
        "colab": {
          "base_uri": "https://localhost:8080/"
        },
        "id": "8v2OqQWiR0zH",
        "outputId": "b20db3f1-1d60-4f7c-cf44-43ef98d75d18"
      },
      "execution_count": null,
      "outputs": [
        {
          "output_type": "stream",
          "name": "stdout",
          "text": [
            "Call value is $278.77 with SE +/- 6.24\n"
          ]
        }
      ]
    },
    {
      "cell_type": "markdown",
      "source": [
        "# Visualisation of Convergence\n"
      ],
      "metadata": {
        "id": "VCJptTmLy9s-"
      }
    },
    {
      "cell_type": "code",
      "source": [
        "x1 = np.linspace(C0-3*SE, C0-1*SE, 100)\n",
        "x2 = np.linspace(C0-1*SE, C0+1*SE, 100)\n",
        "x3 = np.linspace(C0+1*SE, C0+3*SE, 100)\n",
        "\n",
        "s1 = stats.norm.pdf(x1, C0, SE)\n",
        "s2 = stats.norm.pdf(x2, C0, SE)\n",
        "s3 = stats.norm.pdf(x3, C0, SE)\n",
        "\n",
        "plt.fill_between(x1, s1, color='tab:blue',label='> 1 StDev')\n",
        "plt.fill_between(x2, s2, color='cornflowerblue',label='1 StDev')\n",
        "plt.fill_between(x3, s3, color='tab:blue')\n",
        "\n",
        "plt.plot([C0,C0],[0, max(s2)*1.1], 'k',\n",
        "        label='Theoretical Value')\n",
        "plt.plot([market_value,market_value],[0, max(s2)*1.1], 'r',\n",
        "        label='Market Value')\n",
        "\n",
        "plt.ylabel(\"Probability\")\n",
        "plt.xlabel(\"Option Price\")\n",
        "plt.legend()\n",
        "plt.show()"
      ],
      "metadata": {
        "colab": {
          "base_uri": "https://localhost:8080/",
          "height": 279
        },
        "id": "chimaACFR3Gg",
        "outputId": "84981a8b-5d4f-4cd9-9607-31c6c0cf1d7c"
      },
      "execution_count": null,
      "outputs": [
        {
          "output_type": "display_data",
          "data": {
            "text/plain": [
              "<Figure size 432x288 with 1 Axes>"
            ],
            "image/png": "[encoded data removed]"
          },
          "metadata": {
            "needs_background": "light"
          }
        }
      ]
    },
    {
      "cell_type": "markdown",
      "source": [
        "# Monte Carlo Variance Reduction Methods – Antithetic\n"
      ],
      "metadata": {
        "id": "cwXzokhta9pJ"
      }
    },
    {
      "cell_type": "markdown",
      "source": [
        "## Implementation of Antithetic Variate\n"
      ],
      "metadata": {
        "id": "OWLUcEDWbW_5"
      }
    },
    {
      "cell_type": "code",
      "source": [
        "#precompute constants\n",
        "N = 1000\n",
        "dt = T/N\n",
        "nudt = (r - 0.5*vol**2)*dt\n",
        "volsdt = vol*np.sqrt(dt)\n",
        "lnS = np.log(S)\n",
        "# Monte Carlo Method\n",
        "Z = np.random.normal(size=(N, M)) \n",
        "delta_lnSt1 = nudt + volsdt*Z \n",
        "delta_lnSt2 = nudt - volsdt*Z \n",
        "lnSt1 = lnS + np.cumsum(delta_lnSt1, axis=0)\n",
        "lnSt2 = lnS + np.cumsum(delta_lnSt2, axis=0)\n",
        "# Compute Expectation and SE\n",
        "ST1 = np.exp(lnSt1)\n",
        "ST2 = np.exp(lnSt2)\n",
        "CT = 0.5 * ( np.maximum(0, ST1[-1] - K) + np.maximum(0, ST2[-1] - K) )\n",
        "C0 = np.exp(-r*T)*np.sum(CT)/M\n",
        "sigma = np.sqrt( np.sum( (CT - C0)**2) / (M-1) )\n",
        "SE = sigma/np.sqrt(M)\n",
        "print(\"Call value is ${0} with SE +/- {1}\".format(np.round(C0,2),np.round(SE,2)))"
      ],
      "metadata": {
        "colab": {
          "base_uri": "https://localhost:8080/"
        },
        "id": "NYCZ07o5a9AE",
        "outputId": "289548e1-e6a5-4656-d764-090593d3faac"
      },
      "execution_count": null,
      "outputs": [
        {
          "output_type": "stream",
          "name": "stdout",
          "text": [
            "Call value is $280.28 with SE +/- 0.91\n"
          ]
        }
      ]
    },
    {
      "cell_type": "markdown",
      "source": [
        "## Compare without Antithetic Variate\n"
      ],
      "metadata": {
        "id": "f2I0H88RbTys"
      }
    },
    {
      "cell_type": "code",
      "source": [
        "#precompute constants\n",
        "dt = T/N\n",
        "nudt = (r - 0.5*vol**2)*dt\n",
        "volsdt = vol*np.sqrt(dt)\n",
        "lnS = np.log(S)\n",
        "# Monte Carlo Method\n",
        "Z = np.random.normal(size=(N, M)) \n",
        "delta_lnSt = nudt + volsdt*Z \n",
        "lnSt = lnS + np.cumsum(delta_lnSt, axis=0)\n",
        "lnSt = np.concatenate( (np.full(shape=(1, M), fill_value=lnS), lnSt ) )\n",
        "# Compute Expectation and SE\n",
        "ST = np.exp(lnSt)\n",
        "CT = np.maximum(0, ST - K)\n",
        "C0w = np.exp(-r*T)*np.sum(CT[-1])/M\n",
        "sigma = np.sqrt( np.sum( (CT[-1] - C0)**2) / (M-1) )\n",
        "SEw = sigma/np.sqrt(M)\n",
        "print(\"Call value is ${0} with SE +/- {1}\".format(np.round(C0,2),np.round(SE,2)))"
      ],
      "metadata": {
        "colab": {
          "base_uri": "https://localhost:8080/"
        },
        "id": "fl2kZ3kfbSPI",
        "outputId": "91d44981-395e-474d-a49a-1b155710c3da"
      },
      "execution_count": null,
      "outputs": [
        {
          "output_type": "stream",
          "name": "stdout",
          "text": [
            "Call value is $280.28 with SE +/- 0.91\n"
          ]
        }
      ]
    },
    {
      "cell_type": "markdown",
      "source": [
        "# Visualisation of Convergence\n"
      ],
      "metadata": {
        "id": "eO0JO2-0bqox"
      }
    },
    {
      "cell_type": "code",
      "source": [
        "x1 = np.linspace(C0-3*SE, C0-1*SE, 100)\n",
        "x2 = np.linspace(C0-1*SE, C0+1*SE, 100)\n",
        "x3 = np.linspace(C0+1*SE, C0+3*SE, 100)\n",
        "xw = np.linspace(C0w-3*SEw, C0w+3*SEw, 100)\n",
        "s1 = stats.norm.pdf(x1, C0, SE)\n",
        "s2 = stats.norm.pdf(x2, C0, SE)\n",
        "s3 = stats.norm.pdf(x3, C0, SE)\n",
        "sw = stats.norm.pdf(xw, C0w, SEw)\n",
        "plt.fill_between(x1, s1, color='tab:blue',label='> StDev')\n",
        "plt.fill_between(x2, s2, color='cornflowerblue',label='1 StDev')\n",
        "plt.fill_between(x3, s3, color='tab:blue')\n",
        "plt.plot(xw, sw, 'g-')\n",
        "plt.fill_between(xw, sw, alpha=0.2, color='tab:green', label='w/o Antithetic')\n",
        "plt.plot([C0,C0],[0, max(s2)*1.1], 'k',\n",
        "        label='Theoretical Value')\n",
        "plt.plot([C0w,C0w],[0, max(s2)*1.1], color='tab:green',\n",
        "        label='Value w/o Antithetic')\n",
        "plt.plot([market_value,market_value],[0, max(s2)*1.1], 'r',\n",
        "        label='Market Value')\n",
        "plt.ylabel(\"Probability\")\n",
        "plt.xlabel(\"Option Price\")\n",
        "plt.legend()\n",
        "plt.show()"
      ],
      "metadata": {
        "colab": {
          "base_uri": "https://localhost:8080/",
          "height": 282
        },
        "id": "D0LdDiZkbsIW",
        "outputId": "6d1a4ca5-058e-49ab-c22b-839e390bdf74"
      },
      "execution_count": null,
      "outputs": [
        {
          "output_type": "display_data",
          "data": {
            "text/plain": [
              "<Figure size 432x288 with 1 Axes>"
            ],
            "image/png": "[encoded data removed]"
          },
          "metadata": {
            "needs_background": "light"
          }
        }
      ]
    }
  ]
}