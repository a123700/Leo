{
  "cells": [
    {
      "cell_type": "markdown",
      "metadata": {
        "id": "view-in-github",
        "colab_type": "text"
      },
      "source": [
        "<a href=\"https://colab.research.google.com/github/a123700/Leo/blob/master/Reinforcement_Learning_with_a2c_structure_for_Stock_Market_Trading.ipynb\" target=\"_parent\"><img src=\"https://colab.research.google.com/assets/colab-badge.svg\" alt=\"Open In Colab\"/></a>"
      ]
    },
    {
      "cell_type": "markdown",
      "metadata": {
        "id": "CFYKMfEEEzni"
      },
      "source": [
        "## Stage 1: Installing dependencies and environment setup\n"
      ]
    },
    {
      "cell_type": "code",
      "execution_count": 1,
      "metadata": {
        "colab": {
          "base_uri": "https://localhost:8080/"
        },
        "id": "RBzgPROlc7dY",
        "outputId": "ab3d5b58-43a4-4649-b19b-8523d725b723"
      },
      "outputs": [
        {
          "output_type": "stream",
          "name": "stdout",
          "text": [
            "Thu Apr  6 01:37:28 2023       \n",
            "+-----------------------------------------------------------------------------+\n",
            "| NVIDIA-SMI 525.85.12    Driver Version: 525.85.12    CUDA Version: 12.0     |\n",
            "|-------------------------------+----------------------+----------------------+\n",
            "| GPU  Name        Persistence-M| Bus-Id        Disp.A | Volatile Uncorr. ECC |\n",
            "| Fan  Temp  Perf  Pwr:Usage/Cap|         Memory-Usage | GPU-Util  Compute M. |\n",
            "|                               |                      |               MIG M. |\n",
            "|===============================+======================+======================|\n",
            "|   0  Tesla T4            Off  | 00000000:00:04.0 Off |                    0 |\n",
            "| N/A   70C    P8    11W /  70W |      0MiB / 15360MiB |      0%      Default |\n",
            "|                               |                      |                  N/A |\n",
            "+-------------------------------+----------------------+----------------------+\n",
            "                                                                               \n",
            "+-----------------------------------------------------------------------------+\n",
            "| Processes:                                                                  |\n",
            "|  GPU   GI   CI        PID   Type   Process name                  GPU Memory |\n",
            "|        ID   ID                                                   Usage      |\n",
            "|=============================================================================|\n",
            "|  No running processes found                                                 |\n",
            "+-----------------------------------------------------------------------------+\n"
          ]
        }
      ],
      "source": [
        "!nvidia-smi"
      ]
    },
    {
      "cell_type": "code",
      "execution_count": 2,
      "metadata": {
        "id": "PfMXLegVHBfd"
      },
      "outputs": [],
      "source": [
        "api_token = {\"username\":\"srhgccc\",\"key\":\"41c36ccc1ee7bc07f70e459ccbf7df7c\"}\n",
        "import json\n",
        "import zipfile\n",
        "import os\n",
        " \n",
        "if not os.path.exists(\"/root/.kaggle\"):\n",
        "    os.makedirs(\"/root/.kaggle\")\n",
        " \n",
        "with open('/root/.kaggle/kaggle.json', 'w') as file:\n",
        "    json.dump(api_token, file)\n",
        "!chmod 600 /root/.kaggle/kaggle.json\n",
        " \n",
        "if not os.path.exists(\"/kaggle\"):\n",
        "    os.makedirs(\"/kaggle\")\n",
        "os.chdir('/kaggle')"
      ]
    },
    {
      "cell_type": "code",
      "execution_count": 3,
      "metadata": {
        "colab": {
          "base_uri": "https://localhost:8080/"
        },
        "id": "Bhlz5tQXHQoS",
        "outputId": "e07ce466-9156-47e4-b061-accb837e82f5"
      },
      "outputs": [
        {
          "output_type": "stream",
          "name": "stdout",
          "text": [
            "Downloading reinforcement-learning-model-for-stock-trading.zip to /kaggle\n",
            " 85% 113M/132M [00:01<00:00, 118MB/s] \n",
            "100% 132M/132M [00:01<00:00, 109MB/s]\n",
            "Archive:  reinforcement-learning-model-for-stock-trading.zip\n",
            "  inflating: TWII_ai_trader.h5       \n",
            "  inflating: TWII_ai_trader_ver2.h5  \n",
            "  inflating: TWII_ai_trader_ver3.h5  \n"
          ]
        }
      ],
      "source": [
        "!kaggle datasets download -d srhgccc/reinforcement-learning-model-for-stock-trading\n",
        "!unzip reinforcement-learning-model-for-stock-trading.zip"
      ]
    },
    {
      "cell_type": "code",
      "execution_count": 4,
      "metadata": {
        "colab": {
          "base_uri": "https://localhost:8080/"
        },
        "id": "UEPWe6QNErug",
        "outputId": "1ff99367-8c5e-418c-f218-e2fdcc1d9aef"
      },
      "outputs": [
        {
          "output_type": "stream",
          "name": "stdout",
          "text": [
            "Thu Apr  6 01:37:34 2023       \n",
            "+-----------------------------------------------------------------------------+\n",
            "| NVIDIA-SMI 525.85.12    Driver Version: 525.85.12    CUDA Version: 12.0     |\n",
            "|-------------------------------+----------------------+----------------------+\n",
            "| GPU  Name        Persistence-M| Bus-Id        Disp.A | Volatile Uncorr. ECC |\n",
            "| Fan  Temp  Perf  Pwr:Usage/Cap|         Memory-Usage | GPU-Util  Compute M. |\n",
            "|                               |                      |               MIG M. |\n",
            "|===============================+======================+======================|\n",
            "|   0  Tesla T4            Off  | 00000000:00:04.0 Off |                    0 |\n",
            "| N/A   69C    P8    11W /  70W |      0MiB / 15360MiB |      0%      Default |\n",
            "|                               |                      |                  N/A |\n",
            "+-------------------------------+----------------------+----------------------+\n",
            "                                                                               \n",
            "+-----------------------------------------------------------------------------+\n",
            "| Processes:                                                                  |\n",
            "|  GPU   GI   CI        PID   Type   Process name                  GPU Memory |\n",
            "|        ID   ID                                                   Usage      |\n",
            "|=============================================================================|\n",
            "|  No running processes found                                                 |\n",
            "+-----------------------------------------------------------------------------+\n"
          ]
        }
      ],
      "source": [
        "!nvidia-smi"
      ]
    },
    {
      "cell_type": "markdown",
      "metadata": {
        "id": "J0BVbvetGrlR"
      },
      "source": [
        "## Stage 2: Importing project dependencies"
      ]
    },
    {
      "cell_type": "code",
      "execution_count": 5,
      "metadata": {
        "id": "qALiMginGiMW"
      },
      "outputs": [],
      "source": [
        "import math\n",
        "import random\n",
        "import numpy as np\n",
        "import pandas as pd\n",
        "import tensorflow as tf\n",
        "import matplotlib.pyplot as plt\n",
        "from tensorflow.keras.layers import Layer\n",
        "from tensorflow.keras.models import Model\n",
        "from tensorflow import keras\n",
        "from tensorflow.keras import layers\n",
        "from scipy.special import softmax\n",
        "\n",
        "from tqdm import tqdm\n",
        "from tqdm.contrib import tzip\n",
        "from collections import deque\n",
        "import warnings\n",
        "warnings.filterwarnings('ignore')\n",
        "import time\n",
        "from google.colab import files\n",
        "from IPython.display import clear_output"
      ]
    },
    {
      "cell_type": "markdown",
      "metadata": {
        "id": "__E4SMMaGwqb"
      },
      "source": [
        "## Stage 3: Building the AI Trader network"
      ]
    },
    {
      "cell_type": "markdown",
      "metadata": {
        "id": "0tbUWA7bRMeo"
      },
      "source": [
        "### Time Embedding"
      ]
    },
    {
      "cell_type": "code",
      "execution_count": 6,
      "metadata": {
        "id": "wpOb33rRQrBU"
      },
      "outputs": [],
      "source": [
        "'''\n",
        "Time Embedding takes the data feature values of the time-series (ie. stock prices) as input, \n",
        "not the 'time' values (ie. date-month-year eg. 02-04-1972).\n",
        "\n",
        "Hence, in the Embedding formula, above, the input value, τ, corresponds to the stock price.\n",
        "The 'i' and 'k' corresponds to the size of embedding dimension.\n",
        "\n",
        "The Embedding has a dimension of two (ie. k == 2 in the formula): \n",
        "   The first dimension (ie. i == 0) is the 'non-periodic' or 'linear' feature ie. ωᵢτ + φᵢ\n",
        "   The second dimension (ie. i == 1) is the 'periodic' feature ie. F(ωᵢτ + φᵢ)\n",
        "   NB: We could have additional dimensions ie. third, fourth etc by adding more periodic features\n",
        "       with different weights\n",
        "\n",
        "The linear feature (ie. t2v(τ) = ωᵢτ + φᵢ) is just a straight line formula (ie. y = mᵢx + bᵢ), \n",
        "   where ω is the slope and φ is the y-intercept, as shown in the gra\n",
        "For the periodic feature, the linear function (ωᵢτ + φᵢ) is wrapped in an additional function F(). \n",
        "   This F() can be any function (eg. sin, cos, relu...). Here we use sine, where φ shifts the sine \n",
        "   function along the x-axis and ω determines the wavelength of the sine function, as shown in the\n",
        "   graph above.\n",
        "'''\n",
        "\n",
        "class Time2Vector(Layer):\n",
        "  def __init__(self, seq_len, **kwargs):\n",
        "    super(Time2Vector, self).__init__()\n",
        "    self.seq_len = seq_len\n",
        "\n",
        "  def build(self, input_shape):\n",
        "    '''Initialize weights and biases with shape (batch, seq_len)'''\n",
        "    # initiate 4 matrices, 2 for ω and 2 forφ since we need aω and φ matrix for \n",
        "    # both non-periodical (linear) and the periodical (sin) features.\n",
        "    self.weights_linear = self.add_weight(name='weight_linear',\n",
        "                                shape=(int(self.seq_len),),\n",
        "                                initializer='uniform',\n",
        "                                trainable=True)\n",
        "    \n",
        "    self.bias_linear = self.add_weight(name='bias_linear',\n",
        "                                shape=(int(self.seq_len),),\n",
        "                                initializer='uniform',\n",
        "                                trainable=True)\n",
        "    \n",
        "    self.weights_periodic = self.add_weight(name='weight_periodic',\n",
        "                                shape=(int(self.seq_len),),\n",
        "                                initializer='uniform',\n",
        "                                trainable=True)\n",
        "\n",
        "    self.bias_periodic = self.add_weight(name='bias_periodic',\n",
        "                                shape=(int(self.seq_len),),\n",
        "                                initializer='uniform',\n",
        "                                trainable=True)\n",
        "  \n",
        "  def call(self, x):\n",
        "    '''Calculate linear and periodic time features'''\n",
        "\n",
        "    # Exclude Volume and average across the Open, High, Low, and Close prices, resulting \n",
        "    # in the shape (batch_size, seq_len)\n",
        "    x = tf.math.reduce_mean(x[:,:,:4], axis=-1)\n",
        "\n",
        "    # calculate the non-periodic (linear) time feature and expand the dimension by 1 again ie. (batch_size, seq_len, 1)\n",
        "    time_linear = self.weights_linear * x + self.bias_linear # Linear time feature\n",
        "    time_linear = tf.expand_dims(time_linear, axis=-1) # Add dimension (batch, seq_len, 1)\n",
        "    \n",
        "    # repeat for the periodic time feature, also resulting in the same matrix shape. (batch_size, seq_len, 1)\n",
        "    time_periodic = tf.math.sin(tf.multiply(x, self.weights_periodic) + self.bias_periodic)\n",
        "    time_periodic = tf.expand_dims(time_periodic, axis=-1) # Add dimension (batch, seq_len, 1)\n",
        "\n",
        "    # concatenate the linear and periodic time feature. (batch_size, seq_len, 2)\n",
        "    return tf.concat([time_linear, time_periodic], axis=-1) # shape = (batch, seq_len, 2)\n",
        "   \n",
        "  def get_config(self): # Needed for saving and loading model with custom layer\n",
        "    config = super(Time2Vector, self).get_config().copy()\n",
        "    config.update({'seq_len': self.seq_len})\n",
        "    return config"
      ]
    },
    {
      "cell_type": "markdown",
      "metadata": {
        "id": "WARQhWiRRSDV"
      },
      "source": [
        "### Custom learning rate"
      ]
    },
    {
      "cell_type": "code",
      "execution_count": 7,
      "metadata": {
        "id": "s7g2TMy7kkfx"
      },
      "outputs": [],
      "source": [
        "class CustomSchedule(tf.keras.optimizers.schedules.LearningRateSchedule):\n",
        "  def __init__(self, d_model, warmup_steps=4000):\n",
        "    super().__init__()\n",
        "\n",
        "    self.d_model = d_model\n",
        "    self.d_model = tf.cast(self.d_model, tf.float32)\n",
        "\n",
        "    self.warmup_steps = warmup_steps\n",
        "\n",
        "  def __call__(self, step):\n",
        "    step = tf.cast(step, dtype=tf.float32)\n",
        "    arg1 = tf.math.rsqrt(step)\n",
        "    arg2 = step * (self.warmup_steps ** -1.5)\n",
        "\n",
        "    return tf.math.rsqrt(self.d_model) * tf.math.minimum(arg1, arg2)\n",
        "\n",
        "  def get_config(self):\n",
        "    config = {\n",
        "    'd_model': self.d_model.numpy(),\n",
        "    'warmup_steps': self.warmup_steps,\n",
        "     }\n",
        "    return config"
      ]
    },
    {
      "cell_type": "markdown",
      "metadata": {
        "id": "ryEq6u0Aaj8l"
      },
      "source": [
        "### Position Encoding"
      ]
    },
    {
      "cell_type": "code",
      "execution_count": 8,
      "metadata": {
        "id": "J7a5vo2Dajmf"
      },
      "outputs": [],
      "source": [
        "class TokenAndPositionEmbedding(layers.Layer):\n",
        "  def __init__(self, maxlen, embed_dim=64, **kwargs):\n",
        "    super(TokenAndPositionEmbedding, self).__init__(**kwargs)\n",
        "    self.maxlen = maxlen\n",
        "    self.embed_dim = embed_dim\n",
        "    self.pos_emb = layers.Embedding(input_dim=self.maxlen, output_dim=embed_dim)\n",
        "\n",
        "  def call(self, x):\n",
        "    maxlen = tf.shape(x)[-1]\n",
        "    positions = tf.range(start=0, limit=maxlen, delta=1)\n",
        "    positions = self.pos_emb(positions)\n",
        "    return x + positions\n",
        "  def get_config(self): \n",
        "    config = super(TokenAndPositionEmbedding, self).get_config().copy()\n",
        "    config.update({'maxlen': self.maxlen, 'embed_dim': self.embed_dim})\n",
        "    return config"
      ]
    },
    {
      "cell_type": "markdown",
      "metadata": {
        "id": "xkXXm1DuRag0"
      },
      "source": [
        "### Transformer encoder"
      ]
    },
    {
      "cell_type": "code",
      "execution_count": 9,
      "metadata": {
        "id": "bBS2D1o6Y0Kf"
      },
      "outputs": [],
      "source": [
        "def transformer_encoder(inputs, head_size, num_heads, ff_dim, dropout=0.5):\n",
        "    # Normalization and Attention\n",
        "    x = layers.LayerNormalization(epsilon=1e-6)(inputs)\n",
        "    x = layers.MultiHeadAttention(\n",
        "        key_dim=head_size, num_heads=num_heads, dropout=dropout\n",
        "    )(x, x)\n",
        "    x = layers.Dropout(dropout)(x)\n",
        "    res = x + inputs\n",
        "\n",
        "    # Feed Forward Part\n",
        "    x = layers.LayerNormalization(epsilon=1e-6)(res)\n",
        "    x = layers.Conv1D(filters=ff_dim, kernel_size=1, activation=\"relu\")(x)\n",
        "    x = layers.Dropout(dropout)(x)\n",
        "    x = layers.Conv1D(filters=inputs.shape[-1], kernel_size=1)(x)\n",
        "    return x + res"
      ]
    },
    {
      "cell_type": "markdown",
      "metadata": {
        "id": "Y-e4GFwmh-Ok"
      },
      "source": [
        "### Trader Structure"
      ]
    },
    {
      "cell_type": "code",
      "execution_count": 10,
      "metadata": {
        "id": "PCggfrCtGyiG"
      },
      "outputs": [],
      "source": [
        "class AI_Trader():\n",
        "  def __init__(self, state_size, maxlen, model = None, action_space=3, model_name=\"AITrader\", d_rate = 0.8): #Stay, Buy, Sell\n",
        "    \n",
        "    self.state_size = state_size\n",
        "    self.action_space = action_space\n",
        "    self.memory = deque(maxlen=maxlen)\n",
        "    self.action_reward = []\n",
        "    self.long_inventory = []\n",
        "    self.short_inventory = []\n",
        "    self.net_capital = []\n",
        "    self.model_name = model_name\n",
        "    \n",
        "    # Define hyperparamaters\n",
        "    self.gamma = d_rate\n",
        "    self.epsilon = 1.0\n",
        "    self.epsilon_final = 0.01\n",
        "    self.epsilon_decay = 0.95\n",
        "  \n",
        "    if model == None:\n",
        "      self.model = self.model_builder(    \n",
        "      input_shape=(state_size, 1),\n",
        "      head_size=256,\n",
        "      num_heads=10,\n",
        "      ff_dim=5,\n",
        "      num_transformer_blocks=20,\n",
        "      mlp_units=[512, 256, 128, 64, 32, 16, 8],\n",
        "      mlp_dropout=0,\n",
        "      dropout=0)\n",
        "    else:\n",
        "      if model == 'TWII_ai_trader.h5':\n",
        "        self.model = tf.keras.models.load_model(model, custom_objects={'CustomSchedule': CustomSchedule, 'Time2Vector': Time2Vector})\n",
        "      elif model == 'TWII_ai_trader_ver2.h5':\n",
        "        self.model = tf.keras.models.load_model(model, custom_objects={'CustomSchedule': CustomSchedule, \n",
        "                                       'TokenAndPositionEmbedding': TokenAndPositionEmbedding})\n",
        "      else:\n",
        "        self.model = tf.keras.models.load_model(model, custom_objects={'CustomSchedule': CustomSchedule})\n",
        "      \n",
        "  def reset(self):\n",
        "    self.long_inventory = []\n",
        "    self.short_inventory = []\n",
        "    self.net_capital = []\n",
        "    self.action_reward = []\n",
        "\n",
        "  def model_builder(self, \n",
        "    head_size,\n",
        "    num_heads,\n",
        "    ff_dim,\n",
        "    num_transformer_blocks,\n",
        "    mlp_units,\n",
        "    input_shape,\n",
        "    dropout=0,\n",
        "    mlp_dropout=0):\n",
        "    input1 = keras.Input(shape=input_shape)\n",
        "    x = input1\n",
        "    # time_embedding = Time2Vector(window_size)\n",
        "    # x = time_embedding(x)\n",
        "    # embedding_layer = TokenAndPositionEmbedding(window_size)\n",
        "    # x = embedding_layer(x)\n",
        "    for _ in range(num_transformer_blocks):\n",
        "        x = transformer_encoder(x, head_size, num_heads, ff_dim, dropout)\n",
        "\n",
        "    x = layers.GlobalAveragePooling1D(data_format=\"channels_first\")(x)\n",
        "    for dim in mlp_units:\n",
        "        x = layers.Dense(dim, activation=\"relu\")(x)\n",
        "        x = layers.Dropout(mlp_dropout)(x)\n",
        "    x = layers.Dense(16, activation=\"relu\")(x)\n",
        "\n",
        "    input2 = layers.Input(shape=(1))\n",
        "    input3 = layers.Input(shape=(1))\n",
        "    input4 = layers.Input(shape=(1))\n",
        "\n",
        "    x = layers.Concatenate()([x, input2, input3, input4])\n",
        "    actor = layers.Dense(units = 32, activation='relu')(x)\n",
        "    actor = layers.Dense(units = 16, activation='relu')(actor)\n",
        "    actor = layers.Dense(units = 8, activation='relu')(actor)\n",
        "    output1 = layers.Dense(units=self.action_space, activation='softmax')(actor)\n",
        "\n",
        "    critic = layers.Dense(units = 32, activation='relu')(x)\n",
        "    critic = layers.Dense(units = 16, activation='relu')(critic)\n",
        "    critic = layers.Dense(units = 8, activation='relu')(critic)\n",
        "    output2 = layers.Dense(units=1, activation='linear')(critic)\n",
        "\n",
        "    model = Model(inputs = [input1, input2, input3, input4], outputs = [output1, output2], name = self.model_name)\n",
        "    model.compile(loss=['categorical_crossentropy', 'mse'], optimizer=optimizer)\n",
        "    return model\n",
        "\n",
        "  def performace_calculate(self, data, y, window_size, episodes, budget, data_samples, batch_size, trade_training_process):\n",
        "    for episode in range(1, episodes + 1):\n",
        "      start = time.time()\n",
        "      long_time = []\n",
        "      short_time = []\n",
        "      clear_output(wait=True)\n",
        "      print(\"Episode: {}/{}\".format(episode, episodes))\n",
        "      \n",
        "      # Create state\n",
        "      state = state_creator(data, window_size, window_size + 1).reshape(1, -1)\n",
        "      \n",
        "      total_profit = 0\n",
        "      # Reset before starting episode\n",
        "      AI_Trader.reset(self)\n",
        "\n",
        "      if episode % 20 == 0:\n",
        "        model_name = \"{}_ai_trader_{}.h5\".format(stock_name, episode)\n",
        "        self.model.save(model_name)\n",
        "\n",
        "      for t in range(window_size, data_samples):\n",
        "        emotion = np.array(0).reshape(-1, 1)\n",
        "        long_position = np.array(len(self.long_inventory)).reshape(-1, 1)\n",
        "        short_position = np.array(len(self.short_inventory)).reshape(-1, 1)\n",
        "        action, expectation = AI_Trader.trade(self, state, emotion, long_position, short_position)\n",
        "\n",
        "        reward = 0\n",
        "\n",
        "        if len(self.long_inventory) > 0:\n",
        "          emotion = np.array(sum(-np.array(self.long_inventory) + y[t])).reshape(-1, 1)\n",
        "        \n",
        "        if len(self.short_inventory) > 0:\n",
        "          emotion = np.array(sum(np.array(self.short_inventory) - y[t])).reshape(-1, 1)\n",
        "\n",
        "        \n",
        "        if action == 0 and len(self.long_inventory) < budget and len(self.short_inventory) == 0: \n",
        "          self.long_inventory.append(y[t])\n",
        "          reward = 10\n",
        "          long_time.append(t)\n",
        "          # print(\"\\nAt {}/{}, AI Trader bought: \".format(t+1, data_samples), stocks_price_format(y[t]), ', Long Position Inventory: ', len(trader.long_inventory), ', Unrealized profit $', int(emotion))\n",
        "          \n",
        "        elif action == 0 and len(self.long_inventory) == 0 and len(self.short_inventory) > 0: \n",
        "          sell_price = self.short_inventory.pop(0)\n",
        "          long_time.append(t)\n",
        "\n",
        "          p = sell_price - y[t]\n",
        "          reward = p - expectation\n",
        "          total_profit += p\n",
        "          # print(\"\\nAt {}/{}, AI Trader closed position: \".format(t+1, data_samples), stocks_price_format(y[t]), \" Profit: \" + stocks_price_format(p), \" Current Profit: \" + stocks_price_format(total_profit), ', Unrealized profit $', int(emotion))\n",
        "\n",
        "        elif action == 1 and len(self.long_inventory) > 0: \n",
        "          buy_price = self.long_inventory.pop(0)\n",
        "          short_time.append(t)\n",
        "          p = y[t] - buy_price \n",
        "          reward = p - expectation\n",
        "          total_profit += p\n",
        "          # print(\"\\nAt {}/{}, AI Trader sold: \".format(t+1, data_samples), stocks_price_format(y[t]), \" Profit: \" + stocks_price_format(p), \" Current Profit: \" + stocks_price_format(total_profit), ', Unrealized profit $' , int(emotion))\n",
        "        \n",
        "        elif action == 1 and len(self.short_inventory) < budget and len(self.long_inventory) == 0: \n",
        "          self.short_inventory.append(y[t])\n",
        "          reward = 2\n",
        "          short_time.append(t)\n",
        "          # print(\"\\nAt {}/{}, AI Trader shorted: \".format(t+1, data_samples), stocks_price_format(y[t]), ', Short Position Inventory: ', len(trader.short_inventory), ', Unrealized profit $', int(emotion))\n",
        "\n",
        "        else:\n",
        "          # print(\"\\nAt {}/{}, AI Trader held. \".format(t+1, data_samples), \" Current Profit: \" + stocks_price_format(total_profit), ', Unrealized profit $', int(emotion))\n",
        "          reward = -10\n",
        "          \n",
        "\n",
        "        if t == data_samples - 1:\n",
        "          done = True\n",
        "          final_p = 0\n",
        "          if len(self.long_inventory) > 0:\n",
        "            for i in self.long_inventory:\n",
        "              final_p += y[t] - i\n",
        "          elif len(self.short_inventory) > 0:\n",
        "            for i in self.short_inventory:\n",
        "              final_p += i - y[t]\n",
        "          total_profit += final_p\n",
        "          # print(\"\\nClosed Profit {} \".format(stocks_price_format(final_p)), \" Current Profit: \" + stocks_price_format(float(total_profit)))\n",
        "          reward += final_p\n",
        "        else:\n",
        "          done = False\n",
        "          \n",
        "        self.net_capital.append(total_profit)\n",
        "        next_state = state_creator(data, t+1, window_size + 1).reshape(1, -1)\n",
        "\n",
        "        self.memory.append((state, action, next_state, emotion, long_position, short_position, done))\n",
        "        self.action_reward.append(reward)\n",
        "        \n",
        "        state = next_state\n",
        "        \n",
        "        if done:\n",
        "          print(\"########################\")\n",
        "          print(\"TOTAL PROFIT: {}. Time taken for 1 episode: {} secs\".format(stocks_price_format(float(total_profit)), round(time.time() - start, 2)))\n",
        "          print(\"########################\")\n",
        "          trade_training_process.append(total_profit)\n",
        "          plt.figure(figsize=(8, 4))\n",
        "          plt.plot(self.net_capital)\n",
        "          plt.title('Net Capital')\n",
        "          plt.ylabel('Capital')\n",
        "          plt.xlabel('Epochs')\n",
        "          plt.show()\n",
        "\n",
        "          plt.figure(figsize=(8, 4))\n",
        "          plt.plot(y.values, color = 'blue', label = stock_name, lw=2.)  \n",
        "          plt.plot(y.values, '^', markersize=5, color='red', label = 'buying signal', markevery = long_time)\n",
        "          plt.plot(y.values, 'v', markersize=5, color='green', label = 'selling signal', markevery = short_time)\n",
        "          plt.xlabel('Time')\n",
        "          plt.legend()\n",
        "          plt.show()\n",
        "\n",
        "        if len(self.memory) >= batch_size:\n",
        "          AI_Trader.batch_train(self)\n",
        " \n",
        "  def trade(self, state, emotion, long_position, short_position):\n",
        "    actions, expectation = self.model.predict([state, emotion, long_position, short_position], verbose = 0)\n",
        "    if random.random() <= self.epsilon:\n",
        "      return random.randrange(self.action_space), expectation\n",
        "    \n",
        "    actions = np.random.choice(np.arange(self.action_space), size = 1, replace = False, p = actions[0])\n",
        "    return actions, expectation\n",
        "\n",
        "  def batch_train(self, batch_size = 128):\n",
        "    loss_obj_reg = tf.keras.losses.MeanSquaredError()\n",
        "    loss_obj_cat = tf.keras.losses.CategoricalCrossentropy()\n",
        "    target_train = []\n",
        "    target_reward = []\n",
        "    discounted_reward = self.discounted_reward(self.action_reward)\n",
        "    state_train = []\n",
        "    emotion_train = []\n",
        "    long_position_train = []\n",
        "    short_position_train = []\n",
        "\n",
        "    for i, reward in tzip(self.memory, discounted_reward):\n",
        "      state, action, next_state, emotion, long_position, short_position, done = i[0], i[1], i[2], i[3], i[4], i[5], i[6]\n",
        "      state_train.append(state)\n",
        "      emotion_train.append(emotion)\n",
        "      long_position_train.append(long_position)\n",
        "      short_position_train.append(short_position)\n",
        "\n",
        "      total_reward = reward\n",
        "      target_reward.append(float(total_reward))\n",
        "      target = np.ones((1, self.action_space))\n",
        "      _, expectation = self.model.predict([state, emotion, long_position, short_position], verbose=0)\n",
        "      _, expectation1 = self.model.predict([next_state, emotion, long_position, short_position], verbose=0)\n",
        "      advantage = total_reward - (expectation - expectation1)\n",
        "      target[0][action] = advantage\n",
        "      target = softmax(target, axis = 1)\n",
        "      target_train.append(target)\n",
        "    \n",
        "    state_train = np.array(state_train)\n",
        "    state_train = state_train.reshape([state_train.shape[0], state_train.shape[2], -1])\n",
        "\n",
        "    emotion_train = np.array(emotion_train)\n",
        "    emotion_train = emotion_train.reshape([emotion_train.shape[0], emotion_train.shape[2], -1])\n",
        "\n",
        "    long_position_train = np.array(long_position_train)\n",
        "    long_position_train = long_position_train.reshape([long_position_train.shape[0], long_position_train.shape[2], -1])\n",
        "\n",
        "    short_position_train = np.array(short_position_train)\n",
        "    short_position_train = short_position_train.reshape([short_position_train.shape[0], short_position_train.shape[2], -1])\n",
        "\n",
        "    target_train = np.array(target_train)\n",
        "    target_train = target_train.reshape([target_train.shape[0], target_train.shape[2], -1])\n",
        "\n",
        "    target_reward = np.array(target_reward)\n",
        "    target_reward = target_reward.reshape([target_train.shape[0], -1])\n",
        "\n",
        "    # Prepare the training dataset.\n",
        "    train_dataset = tf.data.Dataset.from_tensor_slices((state_train, emotion_train, long_position_train, short_position_train, target_train, target_reward))\n",
        "    train_dataset = train_dataset.shuffle(buffer_size=1024).batch(batch_size)\n",
        "\n",
        "    @tf.function\n",
        "    def train_step(x, y, y1):\n",
        "      with tf.GradientTape() as tape:\n",
        "        pred_cat, pred_reg = self.model(x, training=True)\n",
        "        cat_loss = loss_obj_cat(y, pred_cat)\n",
        "        reg_loss = loss_obj_reg(y1, pred_reg)\n",
        "      grads = tape.gradient([cat_loss, reg_loss], self.model.trainable_weights)\n",
        "      optimizer.apply_gradients(zip(grads, self.model.trainable_weights))\n",
        "      return cat_loss+reg_loss\n",
        "\n",
        "    epochs = 10\n",
        "    for epoch in range(epochs):\n",
        "      print(\"\\nStart of epoch %d\" % (epoch,))\n",
        "      start_time = time.time()\n",
        "      # Iterate over the batches of the dataset.\n",
        "      for step, (state_batch_train, emotion_batch_train, long_position_batch_train, short_position_batch_train, y_batch_train, y1_batch_train) in enumerate(train_dataset):\n",
        "        loss_value = train_step([state_batch_train, emotion_batch_train, long_position_batch_train, short_position_batch_train], y_batch_train, y1_batch_train)\n",
        "        if step % 200 == 0:\n",
        "          print(\"Training loss (for one batch) at step %d: %.4f\"% (step, float(loss_value)))\n",
        "\n",
        "    self.memory = []\n",
        "\n",
        "    if self.epsilon > self.epsilon_final:\n",
        "      self.epsilon *= self.epsilon_decay\n",
        "\n",
        "  def discounted_reward(self, reward):\n",
        "    result = []\n",
        "    for i in range(len(reward)):\n",
        "      temp = np.array(reward[i:])\n",
        "      temp1 = np.logspace(0, len(temp), len(temp), base = self.gamma)\n",
        "      result.append(np.squeeze(temp).dot(np.squeeze(temp1)))\n",
        "    return result "
      ]
    },
    {
      "cell_type": "markdown",
      "metadata": {
        "id": "7tcUyJMnS479"
      },
      "source": [
        "## Stage 4: Dataset preprocessing"
      ]
    },
    {
      "cell_type": "markdown",
      "metadata": {
        "id": "ya_4XPUMS8Pe"
      },
      "source": [
        "### Defining helper functions"
      ]
    },
    {
      "cell_type": "markdown",
      "metadata": {
        "id": "0VRbmx_OTDtZ"
      },
      "source": [
        "#### Price format function"
      ]
    },
    {
      "cell_type": "code",
      "execution_count": 11,
      "metadata": {
        "id": "N8vVBL8YTGaE"
      },
      "outputs": [],
      "source": [
        "def stocks_price_format(n):\n",
        "  if n < 0:\n",
        "    return \"- $ {:.1f}\".format(abs(n))\n",
        "  else:\n",
        "    return \"$ {:.1f}\".format(abs(n))"
      ]
    },
    {
      "cell_type": "markdown",
      "metadata": {
        "id": "j8_bXTiFTHnH"
      },
      "source": [
        "#### Dataset loader"
      ]
    },
    {
      "cell_type": "code",
      "execution_count": 12,
      "metadata": {
        "id": "HskTVuVB6mNk"
      },
      "outputs": [],
      "source": [
        "!pip install -q yfinance --upgrade --no-cache-dir"
      ]
    },
    {
      "cell_type": "code",
      "execution_count": 13,
      "metadata": {
        "id": "ZAcu8ZZzTNwm"
      },
      "outputs": [],
      "source": [
        "import yfinance as yf \n",
        "\n",
        "def dataset_loader(stock_name, start_time, end_time = None):\n",
        "  if end_time == None:\n",
        "    dataset = yf.download(stock_name, start=start_time)['Close'][1:]\n",
        "    dataset1 = np.log(dataset/dataset.shift(1))\n",
        "    return dataset, dataset1.dropna()\n",
        "\n",
        "  else:\n",
        "    dataset = yf.download(stock_name, start=start_time, end = end_time)['Close'][1:]\n",
        "    dataset1 = np.log(dataset/dataset.shift(1))\n",
        "    return dataset, dataset1.dropna()\n",
        "\n",
        "def high_frequency_dataset_loader(stock_name, period, interval):\n",
        "  dataset = yf.download(stock_name, period=period, interval=interval)[1:]\n",
        "  dataset1 = np.log(dataset['Close']/dataset['Close'].shift(1))\n",
        "  \n",
        "  return dataset['Open'], dataset1.dropna()"
      ]
    },
    {
      "cell_type": "markdown",
      "metadata": {
        "id": "sV2a68QC34N-"
      },
      "source": [
        "### Loading a training dataset"
      ]
    },
    {
      "cell_type": "code",
      "execution_count": 14,
      "metadata": {
        "colab": {
          "base_uri": "https://localhost:8080/"
        },
        "id": "-pXYjiBwNRsV",
        "outputId": "a4621f51-0f49-4902-9843-36d0253c58c2"
      },
      "outputs": [
        {
          "output_type": "stream",
          "name": "stdout",
          "text": [
            "\r[*********************100%***********************]  1 of 1 completed\n"
          ]
        }
      ],
      "source": [
        "stock_name = \"^TWII\"\n",
        "start_time = '2013-01-01'\n",
        "end_time = '2017-09-30'\n",
        "\n",
        "y, data = dataset_loader(stock_name, start_time = start_time, end_time = end_time)\n",
        "# y, data = high_frequency_dataset_loader(stock_name, period = '3d', interval = '1m')"
      ]
    },
    {
      "cell_type": "code",
      "execution_count": 15,
      "metadata": {
        "colab": {
          "base_uri": "https://localhost:8080/",
          "height": 593
        },
        "id": "mt2CA1H2CBsY",
        "outputId": "d99c3d95-7642-487a-c6a2-161a60a997d1"
      },
      "outputs": [
        {
          "output_type": "display_data",
          "data": {
            "text/plain": [
              "<Figure size 1600x800 with 1 Axes>"
            ],
            "image/png": "[encoded data removed]"
          },
          "metadata": {}
        }
      ],
      "source": [
        "plt.figure(figsize=(16, 8))\n",
        "plt.plot(y, color = 'blue', label = stock_name)  \n",
        "plt.xlabel('Time')\n",
        "plt.legend()\n",
        "plt.show()"
      ]
    },
    {
      "cell_type": "code",
      "execution_count": 16,
      "metadata": {
        "colab": {
          "base_uri": "https://localhost:8080/",
          "height": 1000
        },
        "id": "IHP8xMrgYBJ4",
        "outputId": "52497b0b-4567-43c3-960a-23db1262fd23"
      },
      "outputs": [
        {
          "output_type": "display_data",
          "data": {
            "text/plain": [
              "<Figure size 1600x800 with 1 Axes>"
            ],
            "image/png": "[encoded data removed]"
          },
          "metadata": {}
        },
        {
          "output_type": "display_data",
          "data": {
            "text/plain": [
              "<Figure size 1600x800 with 1 Axes>"
            ],
            "image/png": "[encoded data removed]"
          },
          "metadata": {}
        }
      ],
      "source": [
        "plt.figure(figsize=(16, 8))\n",
        "plt.plot(data.values, color = 'blue', label = stock_name)  \n",
        "plt.xlabel('Time')\n",
        "plt.legend()\n",
        "plt.show()\n",
        "\n",
        "plt.figure(figsize=(16, 8))\n",
        "plt.hist(data, bins = 30)\n",
        "plt.xlabel('Returns')\n",
        "plt.show()"
      ]
    },
    {
      "cell_type": "markdown",
      "metadata": {
        "id": "eG5ueRzH1Kh8"
      },
      "source": [
        "### State creator"
      ]
    },
    {
      "cell_type": "code",
      "execution_count": 17,
      "metadata": {
        "id": "zwTS0EyZ0O1k"
      },
      "outputs": [],
      "source": [
        "# Data -> dataset to predict from, gathered by data:loader()\n",
        "# Timestep -> Day in the dataset that we want to predict for [0:datalength]\n",
        "# window_size -> how many days in past we want to use to predict current status[1:datalength]\n",
        "#         Try different setup to see what creates best fit\n",
        "def state_creator(data, timestep, window_size):\n",
        "  starting_id = timestep - window_size + 1\n",
        "  \n",
        "  if starting_id >= 0:\n",
        "    windowed_data = data[starting_id:timestep+1]\n",
        "  else:\n",
        "    windowed_data = - starting_id * [data[0]] + list(data[0:timestep+1])\n",
        "    \n",
        "  state = []\n",
        "  for i in range(window_size - 1):\n",
        "    d = windowed_data[i]\n",
        "    state.append(d)\n",
        "\n",
        "  return np.array(state).reshape(-1, 1)"
      ]
    },
    {
      "cell_type": "markdown",
      "metadata": {
        "id": "k_KUeBY14o8Z"
      },
      "source": [
        "## Stage 5: Training the AI Trader"
      ]
    },
    {
      "cell_type": "markdown",
      "metadata": {
        "id": "hkyW12-L4qo_"
      },
      "source": [
        "### Setting hyperparameters"
      ]
    },
    {
      "cell_type": "code",
      "execution_count": 18,
      "metadata": {
        "id": "dKfuoXO84c5X"
      },
      "outputs": [],
      "source": [
        "window_size = 20\n",
        "episodes = 200 # same as epoch\n",
        "budget = len(data)\n",
        "\n",
        "data_samples = len(data) # discard last value, that we will predict on\n",
        "batch_size = (len(data) - window_size)"
      ]
    },
    {
      "cell_type": "code",
      "execution_count": 19,
      "metadata": {
        "id": "b8h5gbCgk90e"
      },
      "outputs": [],
      "source": [
        "learning_rate = CustomSchedule(window_size)\n",
        "\n",
        "optimizer = tf.keras.optimizers.Adam(learning_rate, beta_1=0.9, beta_2=0.98, epsilon=1e-9)"
      ]
    },
    {
      "cell_type": "markdown",
      "metadata": {
        "id": "h2kvNZx24sJ7"
      },
      "source": [
        "### Defining the Trader model"
      ]
    },
    {
      "cell_type": "code",
      "execution_count": 20,
      "metadata": {
        "id": "M4LmF2V94trY"
      },
      "outputs": [],
      "source": [
        "# trader = AI_Trader(window_size, batch_size)\n",
        "# trader = AI_Trader(window_size, batch_size, model='TWII_ai_trader.h5')\n",
        "# trader = AI_Trader(window_size, batch_size, model='TWII_ai_trader_ver2.h5')\n",
        "trader = AI_Trader(window_size, batch_size, model='TWII_ai_trader_ver3.h5')"
      ]
    },
    {
      "cell_type": "code",
      "execution_count": 21,
      "metadata": {
        "id": "y66jkzwW4wNV"
      },
      "outputs": [],
      "source": [
        "# trader.model.summary()"
      ]
    },
    {
      "cell_type": "code",
      "execution_count": 22,
      "metadata": {
        "id": "WDw-BuKHhd0o"
      },
      "outputs": [],
      "source": [
        "# plt.figure(figsize=(8, 4))\n",
        "# tf.keras.utils.plot_model(trader.model, show_shapes=True)"
      ]
    },
    {
      "cell_type": "markdown",
      "metadata": {
        "id": "QRip_rac5zHS"
      },
      "source": [
        "### Training loop"
      ]
    },
    {
      "cell_type": "code",
      "execution_count": null,
      "metadata": {
        "colab": {
          "base_uri": "https://localhost:8080/",
          "height": 882,
          "referenced_widgets": [
            "d0b977c76500421b829d1cc28b5d913e",
            "e8317d718109409593a46c772014b367",
            "0734062004cd4388ad1bb9d89e30ada8",
            "2654f9567c3a4041bae4d4eed2847756",
            "c0d9ea1dad674b0b9aed29d442f5b8ad",
            "3e682d5c24b744ebba15bd95a2722055",
            "24248541d079490180d6075966daaaa4",
            "454ca276b97b4478856f966ba62a941e",
            "4fb247a3a6f44575afe7acf732da8f2c",
            "984aee1b655a4f02ac85a15cbacb6c19",
            "af3ac7b5cbc540f9ae67f8bf8ef8058d"
          ]
        },
        "id": "78gnEAWMrj4s",
        "outputId": "05f7031a-de90-4039-cbc1-60aa84f89a94"
      },
      "outputs": [
        {
          "output_type": "stream",
          "name": "stdout",
          "text": [
            "Episode: 1/200\n",
            "########################\n",
            "TOTAL PROFIT: $ 25641.5. Time taken for 1 episode: 120.99 secs\n",
            "########################\n"
          ]
        },
        {
          "output_type": "display_data",
          "data": {
            "text/plain": [
              "<Figure size 800x400 with 1 Axes>"
            ],
            "image/png": "[encoded data removed]"
          },
          "metadata": {}
        },
        {
          "output_type": "display_data",
          "data": {
            "text/plain": [
              "<Figure size 800x400 with 1 Axes>"
            ],
            "image/png": "[encoded data removed]"
          },
          "metadata": {}
        },
        {
          "output_type": "display_data",
          "data": {
            "text/plain": [
              "  0%|          | 0/1137 [00:00<?, ?it/s]"
            ],
            "application/vnd.jupyter.widget-view+json": {
              "version_major": 2,
              "version_minor": 0,
              "model_id": "d0b977c76500421b829d1cc28b5d913e"
            }
          },
          "metadata": {}
        }
      ],
      "source": [
        "trader.reset()\n",
        "trade_training_process = []\n",
        "trader.performace_calculate(data, y, window_size, episodes, budget, data_samples, batch_size, trade_training_process)"
      ]
    },
    {
      "cell_type": "code",
      "execution_count": null,
      "metadata": {
        "id": "FhWSr1XZJBvR"
      },
      "outputs": [],
      "source": [
        "model_name = \"{}_ai_trader_ver3.h5\".format(stock_name.replace('^', ''))\n",
        "trader.model.save(model_name)\n",
        "files.download(model_name) "
      ]
    },
    {
      "cell_type": "markdown",
      "metadata": {
        "id": "x0ikk_xNMqvQ"
      },
      "source": [
        "### Profitablility Trend"
      ]
    },
    {
      "cell_type": "code",
      "execution_count": null,
      "metadata": {
        "id": "wN1y4ftsKFAG"
      },
      "outputs": [],
      "source": [
        "plt.plot(trade_training_process)\n",
        "plt.title('Training Profitability')\n",
        "plt.ylabel('Total Profit')\n",
        "plt.xlabel('Epochs')\n",
        "plt.legend(['Profit'])\n",
        "plt.axhline(y = 0, color = 'red', linestyle = '-')\n",
        "plt.show()"
      ]
    },
    {
      "cell_type": "markdown",
      "metadata": {
        "id": "gz2O868moRV5"
      },
      "source": [
        "## Stage 6: Testing the AI Trader"
      ]
    },
    {
      "cell_type": "markdown",
      "metadata": {
        "id": "SJKsYhBMoaEk"
      },
      "source": [
        "### Loading a testing dataset"
      ]
    },
    {
      "cell_type": "code",
      "execution_count": null,
      "metadata": {
        "id": "Hr7z3XQboCa2"
      },
      "outputs": [],
      "source": [
        "y, data1 = dataset_loader(stock_name, start_time = end_time)\n",
        "# y, data1 = high_frequency_dataset_loader(stock_name, period = '7d', interval = '1m')"
      ]
    },
    {
      "cell_type": "code",
      "execution_count": null,
      "metadata": {
        "id": "oREvEvzC_snx"
      },
      "outputs": [],
      "source": [
        "plt.figure(figsize=(8, 4))\n",
        "plt.plot(y.values)\n",
        "plt.show()\n",
        "\n",
        "plt.figure(figsize=(8, 4))\n",
        "plt.plot(data1.values)\n",
        "plt.show()\n",
        "\n",
        "plt.figure(figsize=(8, 4))\n",
        "plt.hist(data1, bins = 30)\n",
        "plt.show()"
      ]
    },
    {
      "cell_type": "markdown",
      "metadata": {
        "id": "tV2LuMVQosfQ"
      },
      "source": [
        "### Model implementation"
      ]
    },
    {
      "cell_type": "code",
      "execution_count": null,
      "metadata": {
        "id": "Oqimp66Vox_1"
      },
      "outputs": [],
      "source": [
        "def model_trading(model, data, y, budget):\n",
        "  long_inventory = []\n",
        "  short_inventory = []\n",
        "  net_capital = []\n",
        "  state = state_creator(data, window_size, window_size + 1).reshape(1, -1)\n",
        "  total_profit = 0\n",
        "  data_samples = len(data)\n",
        "  done = False\n",
        "  emotion = np.array(0).reshape(-1, 1)\n",
        "  long_poisition = np.array(len(long_inventory)).reshape(-1, 1)\n",
        "  short_poisition = np.array(len(short_inventory)).reshape(-1, 1)\n",
        "  \n",
        "  for t in range(window_size, len(data)):\n",
        "    if t % 100 == 0:\n",
        "      clear_output(wait=True)\n",
        "\n",
        "    if len(long_inventory) > 0:\n",
        "      emotion = np.array(sum(-np.array(long_inventory) + y[t])).reshape(-1, 1)\n",
        "    \n",
        "    if len(short_inventory) > 0:\n",
        "      emotion = np.array(sum(-np.array(short_inventory) + y[t])).reshape(-1, 1)\n",
        "\n",
        "    p, _ = model.predict([state, emotion, long_poisition, short_poisition], verbose = 0)\n",
        "    action = np.random.choice(p.shape[1], size = 1, replace = False, p = p[0])\n",
        "\n",
        "    if action == 0 and len(long_inventory) < budget and len(short_inventory) == 0:\n",
        "      long_time.append(t)\n",
        "      long_inventory.append(y[t])\n",
        "      print(\"\\nAt {}/{}, AI Trader bought: \".format(t+1, data_samples), stocks_price_format(y[t]), ', Long Position Inventory: ', len(long_inventory))\n",
        "    elif action == 0 and len(long_inventory) == 0 and len(short_inventory) > 0:\n",
        "        long_time.append(t)\n",
        "        sell_price = short_inventory.pop(0)\n",
        "        p = sell_price - y[t]\n",
        "        reward = p\n",
        "        total_profit += p\n",
        "        print(\"\\nAt {}/{}, AI Trader closed position: \".format(t+1, data_samples), stocks_price_format(y[t]), \" Profit: \" + stocks_price_format(p), \" Current Profit: \" + stocks_price_format(total_profit))\n",
        "\n",
        "    elif action == 1 and len(long_inventory) > 0:\n",
        "      short_time.append(t)\n",
        "      buy_price = long_inventory.pop(0)\n",
        "      p = y[t] - buy_price\n",
        "      total_profit += p\n",
        "      print(\"\\nAt {}/{}, AI Trader sold: \".format(t+1, data_samples), stocks_price_format(y[t]), \" Profit: \" + stocks_price_format(p), \" Current Profit: \" + stocks_price_format(total_profit))\n",
        "      \n",
        "    elif action == 1 and len(short_inventory) < budget and len(long_inventory) == 0:\n",
        "      short_time.append(t)\n",
        "      short_inventory.append(y[t])\n",
        "      print(\"\\nAt {}/{}, AI Trader shorted: \".format(t+1, data_samples), stocks_price_format(y[t]), ', Short Position Inventory: ', len(short_inventory))\n",
        "\n",
        "    else:\n",
        "      print(\"\\nAt {}/{}, AI Trader held. \".format(t+1, data_samples), \" Current Profit: \" + stocks_price_format(total_profit))\n",
        "    if t == data_samples - 1:\n",
        "      done = True\n",
        "      final_p = 0\n",
        "      if len(long_inventory) > 0:\n",
        "        for i in long_inventory:\n",
        "          final_p += y[t] - i\n",
        "      elif len(short_inventory) > 0:\n",
        "        for i in short_inventory:\n",
        "          final_p += i - y[t]\n",
        "      total_profit += final_p\n",
        "      # print(\"\\nClosed Profit {} \".format(final_p), \" Current Profit: \" + stocks_price_format(total_profit))\n",
        "\n",
        "    if done:\n",
        "      clear_output(wait=True)\n",
        "      print(\"########################\")\n",
        "      print(\"TOTAL PROFIT: {}\".format(total_profit))\n",
        "      print(\"########################\")\n",
        "    try:\n",
        "      net_capital.append(total_profit)\n",
        "      next_state = state_creator(data, t + 1, window_size + 1).reshape(1, -1)\n",
        "      state = next_state\n",
        "    except IndexError:\n",
        "      continue\n",
        "  plt.figure(figsize=(16, 8))\n",
        "  plt.plot(net_capital)\n",
        "  plt.title('Net Capital')\n",
        "  plt.ylabel('Capital')\n",
        "  plt.xlabel('Epochs')\n",
        "  plt.show()"
      ]
    },
    {
      "cell_type": "code",
      "execution_count": null,
      "metadata": {
        "id": "Yh1Ip7f9ouBX"
      },
      "outputs": [],
      "source": [
        "def ensemble_model_trading(model, model1, model2, data, y, budget):\n",
        "  long_inventory = []\n",
        "  short_inventory = []\n",
        "  net_capital = []\n",
        "  state = state_creator(data, window_size, window_size + 1).reshape(1, -1)\n",
        "  total_profit = 0\n",
        "  data_samples = len(data)\n",
        "  done = False\n",
        "  emotion = np.array(0).reshape(-1, 1)\n",
        "  long_poisition = np.array(len(long_inventory)).reshape(-1, 1)\n",
        "  short_poisition = np.array(len(short_inventory)).reshape(-1, 1)\n",
        "  \n",
        "  for t in range(window_size, len(data)):\n",
        "    if t % 100 == 0:\n",
        "      clear_output(wait=True)\n",
        "\n",
        "    if len(long_inventory) > 0:\n",
        "      emotion = np.array(sum(-np.array(long_inventory) + y[t])).reshape(-1, 1)\n",
        "    \n",
        "    if len(short_inventory) > 0:\n",
        "      emotion = np.array(sum(-np.array(short_inventory) + y[t])).reshape(-1, 1)\n",
        "\n",
        "    p, _ = model.predict([state, emotion, long_poisition, short_poisition], verbose = 0)\n",
        "    p1, _ = model1.predict([state, emotion, long_poisition, short_poisition], verbose = 0)\n",
        "    p2, _ = model2.predict([state, emotion, long_poisition, short_poisition], verbose = 0)\n",
        "    action = np.random.choice(p.shape[1], size = 1, replace = False, p = softmax(p[0] + p1[0] + p2[0]))\n",
        "\n",
        "    if action == 0 and len(long_inventory) < budget and len(short_inventory) == 0:\n",
        "      long_time.append(t)\n",
        "      long_inventory.append(y[t])\n",
        "      print(\"\\nAt {}/{}, AI Trader bought: \".format(t+1, data_samples), stocks_price_format(y[t]), ', Long Position Inventory: ', len(long_inventory))\n",
        "    elif action == 0 and len(long_inventory) == 0 and len(short_inventory) > 0:\n",
        "        long_time.append(t)\n",
        "        sell_price = short_inventory.pop(0)\n",
        "        p = sell_price - y[t]\n",
        "        reward = p\n",
        "        total_profit += p\n",
        "        print(\"\\nAt {}/{}, AI Trader closed position: \".format(t+1, data_samples), stocks_price_format(y[t]), \" Profit: \" + stocks_price_format(p), \" Current Profit: \" + stocks_price_format(total_profit))\n",
        "\n",
        "    elif action == 1 and len(long_inventory) > 0:\n",
        "      short_time.append(t)\n",
        "      buy_price = long_inventory.pop(0)\n",
        "      p = y[t] - buy_price\n",
        "      total_profit += p\n",
        "      print(\"\\nAt {}/{}, AI Trader sold: \".format(t+1, data_samples), stocks_price_format(y[t]), \" Profit: \" + stocks_price_format(p), \" Current Profit: \" + stocks_price_format(total_profit))\n",
        "      \n",
        "    elif action == 1 and len(short_inventory) < budget and len(long_inventory) == 0:\n",
        "      short_time.append(t)\n",
        "      short_inventory.append(y[t])\n",
        "      print(\"\\nAt {}/{}, AI Trader shorted: \".format(t+1, data_samples), stocks_price_format(y[t]), ', Short Position Inventory: ', len(short_inventory))\n",
        "\n",
        "    else:\n",
        "      print(\"\\nAt {}/{}, AI Trader held. \".format(t+1, data_samples), \" Current Profit: \" + stocks_price_format(total_profit))\n",
        "    if t == data_samples - 1:\n",
        "      done = True\n",
        "      final_p = 0\n",
        "      if len(long_inventory) > 0:\n",
        "        for i in long_inventory:\n",
        "          final_p += y[t] - i\n",
        "      elif len(short_inventory) > 0:\n",
        "        for i in short_inventory:\n",
        "          final_p += i - y[t]\n",
        "      total_profit += final_p\n",
        "      # print(\"\\nClosed Profit {} \".format(final_p), \" Current Profit: \" + stocks_price_format(total_profit))\n",
        "\n",
        "    if done:\n",
        "      clear_output(wait=True)\n",
        "      print(\"########################\")\n",
        "      print(\"TOTAL PROFIT: {}\".format(total_profit))\n",
        "      print(\"########################\")\n",
        "    try:\n",
        "      net_capital.append(total_profit)\n",
        "      next_state = state_creator(data, t + 1, window_size + 1).reshape(1, -1)\n",
        "      state = next_state\n",
        "    except IndexError:\n",
        "      continue\n",
        "  plt.figure(figsize=(16, 8))\n",
        "  plt.plot(net_capital)\n",
        "  plt.title('Net Capital')\n",
        "  plt.ylabel('Capital')\n",
        "  plt.xlabel('Epochs')\n",
        "  plt.show()"
      ]
    },
    {
      "cell_type": "code",
      "execution_count": null,
      "metadata": {
        "id": "z27172EHPrJ2"
      },
      "outputs": [],
      "source": [
        "def benchmark_random_trading(data, y, budget):\n",
        "  long_inventory = []\n",
        "  short_inventory = []\n",
        "  net_capital = []\n",
        "  state = state_creator(data, window_size, window_size + 1).reshape(1, -1)\n",
        "  total_profit = 0\n",
        "  data_samples = len(data)\n",
        "  done = False\n",
        "  emotion = np.array(0).reshape(-1, 1)\n",
        "  long_poisition = np.array(len(long_inventory)).reshape(-1, 1)\n",
        "  short_poisition = np.array(len(short_inventory)).reshape(-1, 1)\n",
        "  \n",
        "  for t in range(window_size, len(data)):\n",
        "    if t % 100 == 0:\n",
        "      clear_output(wait=True)\n",
        "\n",
        "    if len(long_inventory) > 0:\n",
        "      emotion = np.array(sum(-np.array(long_inventory) + y[t])).reshape(-1, 1)\n",
        "    \n",
        "    if len(short_inventory) > 0:\n",
        "      emotion = np.array(sum(-np.array(short_inventory) + y[t])).reshape(-1, 1)\n",
        "\n",
        "    p = np.array([[1/3, 1/3, 1/3]])\n",
        "    action = np.random.choice(p.shape[1], size = 1, replace = False, p = p[0])\n",
        "\n",
        "    if action == 0 and len(long_inventory) < budget and len(short_inventory) == 0:\n",
        "      long_time.append(t)\n",
        "      long_inventory.append(y[t])\n",
        "      print(\"\\nAt {}/{}, AI Trader bought: \".format(t+1, data_samples), stocks_price_format(y[t]), ', Long Position Inventory: ', len(long_inventory))\n",
        "    elif action == 0 and len(long_inventory) == 0 and len(short_inventory) > 0:\n",
        "        long_time.append(t)\n",
        "        sell_price = short_inventory.pop(0)\n",
        "        p = sell_price - y[t]\n",
        "        reward = p\n",
        "        total_profit += p\n",
        "        print(\"\\nAt {}/{}, AI Trader closed position: \".format(t+1, data_samples), stocks_price_format(y[t]), \" Profit: \" + stocks_price_format(p), \" Current Profit: \" + stocks_price_format(total_profit))\n",
        "\n",
        "    elif action == 1 and len(long_inventory) > 0:\n",
        "      short_time.append(t)\n",
        "      buy_price = long_inventory.pop(0)\n",
        "      p = y[t] - buy_price\n",
        "      total_profit += p\n",
        "      print(\"\\nAt {}/{}, AI Trader sold: \".format(t+1, data_samples), stocks_price_format(y[t]), \" Profit: \" + stocks_price_format(p), \" Current Profit: \" + stocks_price_format(total_profit))\n",
        "      \n",
        "    elif action == 1 and len(short_inventory) < budget and len(long_inventory) == 0:\n",
        "      short_time.append(t)\n",
        "      short_inventory.append(y[t])\n",
        "      print(\"\\nAt {}/{}, AI Trader shorted: \".format(t+1, data_samples), stocks_price_format(y[t]), ', Short Position Inventory: ', len(short_inventory))\n",
        "\n",
        "    else:\n",
        "      print(\"\\nAt {}/{}, AI Trader held. \".format(t+1, data_samples), \" Current Profit: \" + stocks_price_format(total_profit))\n",
        "    if t == data_samples - 1:\n",
        "      done = True\n",
        "      final_p = 0\n",
        "      if len(long_inventory) > 0:\n",
        "        for i in long_inventory:\n",
        "          final_p += y[t] - i\n",
        "      elif len(short_inventory) > 0:\n",
        "        for i in short_inventory:\n",
        "          final_p += i - y[t]\n",
        "      total_profit += final_p\n",
        "      # print(\"\\nClosed Profit {} \".format(final_p), \" Current Profit: \" + stocks_price_format(total_profit))\n",
        "\n",
        "    if done:\n",
        "      clear_output(wait=True)\n",
        "      print(\"########################\")\n",
        "      print(\"TOTAL PROFIT: {}\".format(total_profit))\n",
        "      print(\"########################\")\n",
        "    try:\n",
        "      net_capital.append(total_profit)\n",
        "      next_state = state_creator(data, t + 1, window_size + 1).reshape(1, -1)\n",
        "      state = next_state\n",
        "    except IndexError:\n",
        "      continue\n",
        "  plt.figure(figsize=(16, 8))\n",
        "  plt.plot(net_capital)\n",
        "  plt.title('Net Capital')\n",
        "  plt.ylabel('Capital')\n",
        "  plt.xlabel('Epochs')\n",
        "  plt.show()"
      ]
    },
    {
      "cell_type": "code",
      "execution_count": null,
      "metadata": {
        "id": "yy_VDnprPs42"
      },
      "outputs": [],
      "source": [
        "def benchmark_systematic_trading(data, y, budget):\n",
        "  long_inventory = []\n",
        "  short_inventory = []\n",
        "  net_capital = []\n",
        "  state = state_creator(data, window_size, window_size + 1).reshape(1, -1)\n",
        "  total_profit = 0\n",
        "  data_samples = len(data)\n",
        "  done = False\n",
        "  emotion = np.array(0).reshape(-1, 1)\n",
        "  long_poisition = np.array(len(long_inventory)).reshape(-1, 1)\n",
        "  short_poisition = np.array(len(short_inventory)).reshape(-1, 1)\n",
        "  \n",
        "  for t in range(window_size, len(data)):\n",
        "    if t % 100 == 0:\n",
        "      clear_output(wait=True)\n",
        "\n",
        "    if len(long_inventory) > 0:\n",
        "      emotion = np.array(sum(-np.array(long_inventory) + y[t])).reshape(-1, 1)\n",
        "    \n",
        "    if len(short_inventory) > 0:\n",
        "      emotion = np.array(sum(-np.array(short_inventory) + y[t])).reshape(-1, 1)\n",
        "\n",
        "    if t % 30 == 0:\n",
        "      action = 0\n",
        "    else:\n",
        "      p = np.array([[1/3, 1/3, 1/3]])\n",
        "      action = np.random.choice(p.shape[1], size = 1, replace = False, p = p[0])\n",
        "\n",
        "    if action == 0 and len(long_inventory) < budget and len(short_inventory) == 0:\n",
        "      long_time.append(t)\n",
        "      long_inventory.append(y[t])\n",
        "      print(\"\\nAt {}/{}, AI Trader bought: \".format(t+1, data_samples), stocks_price_format(y[t]), ', Long Position Inventory: ', len(long_inventory))\n",
        "    elif action == 0 and len(long_inventory) == 0 and len(short_inventory) > 0:\n",
        "        long_time.append(t)\n",
        "        sell_price = short_inventory.pop(0)\n",
        "        p = sell_price - y[t]\n",
        "        reward = p\n",
        "        total_profit += p\n",
        "        print(\"\\nAt {}/{}, AI Trader closed position: \".format(t+1, data_samples), stocks_price_format(y[t]), \" Profit: \" + stocks_price_format(p), \" Current Profit: \" + stocks_price_format(total_profit))\n",
        "\n",
        "    elif action == 1 and len(long_inventory) > 0:\n",
        "      short_time.append(t)\n",
        "      buy_price = long_inventory.pop(0)\n",
        "      p = y[t] - buy_price\n",
        "      total_profit += p\n",
        "      print(\"\\nAt {}/{}, AI Trader sold: \".format(t+1, data_samples), stocks_price_format(y[t]), \" Profit: \" + stocks_price_format(p), \" Current Profit: \" + stocks_price_format(total_profit))\n",
        "      \n",
        "    elif action == 1 and len(short_inventory) < budget and len(long_inventory) == 0:\n",
        "      short_time.append(t)\n",
        "      short_inventory.append(y[t])\n",
        "      print(\"\\nAt {}/{}, AI Trader shorted: \".format(t+1, data_samples), stocks_price_format(y[t]), ', Short Position Inventory: ', len(short_inventory))\n",
        "\n",
        "    else:\n",
        "      print(\"\\nAt {}/{}, AI Trader held. \".format(t+1, data_samples), \" Current Profit: \" + stocks_price_format(total_profit))\n",
        "    if t == data_samples - 1:\n",
        "      done = True\n",
        "      final_p = 0\n",
        "      if len(long_inventory) > 0:\n",
        "        for i in long_inventory:\n",
        "          final_p += y[t] - i\n",
        "      elif len(short_inventory) > 0:\n",
        "        for i in short_inventory:\n",
        "          final_p += i - y[t]\n",
        "      total_profit += final_p\n",
        "      # print(\"\\nClosed Profit {} \".format(final_p), \" Current Profit: \" + stocks_price_format(total_profit))\n",
        "\n",
        "    if done:\n",
        "      clear_output(wait=True)\n",
        "      print(\"########################\")\n",
        "      print(\"TOTAL PROFIT: {}\".format(total_profit))\n",
        "      print(\"########################\")\n",
        "    try:\n",
        "      net_capital.append(total_profit)\n",
        "      next_state = state_creator(data, t + 1, window_size + 1).reshape(1, -1)\n",
        "      state = next_state\n",
        "    except IndexError:\n",
        "      continue\n",
        "  plt.figure(figsize=(16, 8))\n",
        "  plt.plot(net_capital)\n",
        "  plt.title('Net Capital')\n",
        "  plt.ylabel('Capital')\n",
        "  plt.xlabel('Epochs')\n",
        "  plt.show()"
      ]
    },
    {
      "cell_type": "markdown",
      "source": [
        "### Vanilla Model Profitability Visualization"
      ],
      "metadata": {
        "id": "lmadajnINFhN"
      }
    },
    {
      "cell_type": "code",
      "source": [
        "budget = 1\n",
        "\n",
        "long_time = []\n",
        "short_time = []\n",
        "model_trading(trader.model, data1, y, budget = budget)"
      ],
      "metadata": {
        "id": "m07LhjkGM5yu"
      },
      "execution_count": null,
      "outputs": []
    },
    {
      "cell_type": "code",
      "source": [
        "plt.figure(figsize=(20,10))\n",
        "plt.plot(y.values, color = 'blue', label = stock_name, lw=2.)  \n",
        "plt.plot(y.values, '^', markersize=7, color='red', label = 'buying signal', markevery = long_time)\n",
        "plt.plot(y.values, 'v', markersize=7, color='green', label = 'selling signal', markevery = short_time)\n",
        "plt.xlabel('Time')\n",
        "plt.legend()\n",
        "plt.show()"
      ],
      "metadata": {
        "id": "VJaCSkcdNKtm"
      },
      "execution_count": null,
      "outputs": []
    },
    {
      "cell_type": "markdown",
      "metadata": {
        "id": "FfLZsDJWgZDQ"
      },
      "source": [
        "### Positional Encoding Model Profitability Visualization"
      ]
    },
    {
      "cell_type": "code",
      "execution_count": null,
      "metadata": {
        "id": "yt33vIRogFqK"
      },
      "outputs": [],
      "source": [
        "long_time = []\n",
        "short_time = []\n",
        "model1 = tf.keras.models.load_model('TWII_ai_trader_ver2.h5', custom_objects={'CustomSchedule': CustomSchedule, 'Time2Vector': Time2Vector})\n",
        "model_trading(model1, data1, y, budget = budget)"
      ]
    },
    {
      "cell_type": "code",
      "execution_count": null,
      "metadata": {
        "id": "XZvU29ANgfYo"
      },
      "outputs": [],
      "source": [
        "plt.figure(figsize=(20,10))\n",
        "plt.plot(y.values, color = 'blue', label = stock_name, lw=2.)  \n",
        "plt.plot(y.values, '^', markersize=7, color='red', label = 'buying signal', markevery = long_time)\n",
        "plt.plot(y.values, 'v', markersize=7, color='green', label = 'selling signal', markevery = short_time)\n",
        "plt.xlabel('Time')\n",
        "plt.legend()\n",
        "plt.show()"
      ]
    },
    {
      "cell_type": "markdown",
      "metadata": {
        "id": "8ha-0wgSxSBm"
      },
      "source": [
        "### Time2Vector Model Profitability Visualization"
      ]
    },
    {
      "cell_type": "code",
      "execution_count": null,
      "metadata": {
        "id": "zybwzFa_o2HB"
      },
      "outputs": [],
      "source": [
        "long_time = []\n",
        "short_time = []\n",
        "model2 = tf.keras.models.load_model('TWII_ai_trader.h5', custom_objects={'CustomSchedule': CustomSchedule, 'Time2Vector': Time2Vector})\n",
        "model_trading(model2, data1, y, budget = budget)"
      ]
    },
    {
      "cell_type": "code",
      "execution_count": null,
      "metadata": {
        "id": "MyQRv3K47usU"
      },
      "outputs": [],
      "source": [
        "plt.figure(figsize=(20,10))\n",
        "plt.plot(y.values, color = 'blue', label = stock_name, lw=2.)  \n",
        "plt.plot(y.values, '^', markersize=7, color='red', label = 'buying signal', markevery = long_time)\n",
        "plt.plot(y.values, 'v', markersize=7, color='green', label = 'selling signal', markevery = short_time)\n",
        "plt.xlabel('Time')\n",
        "plt.legend()\n",
        "plt.show()"
      ]
    },
    {
      "cell_type": "markdown",
      "metadata": {
        "id": "MHvpLnU0pMjO"
      },
      "source": [
        "### Ensemble Model Profitability Visualization"
      ]
    },
    {
      "cell_type": "code",
      "execution_count": null,
      "metadata": {
        "id": "kfrFbY9Lo-Zo"
      },
      "outputs": [],
      "source": [
        "long_time = []\n",
        "short_time = []\n",
        "ensemble_model_trading(trader.model, model1, model2, data1, y, budget=budget)"
      ]
    },
    {
      "cell_type": "code",
      "execution_count": null,
      "metadata": {
        "id": "9RiRX_XOpPIx"
      },
      "outputs": [],
      "source": [
        "plt.figure(figsize=(20,10))\n",
        "plt.plot(y.values, color = 'blue', label = stock_name, lw=2.)  \n",
        "plt.plot(y.values, '^', markersize=7, color='red', label = 'buying signal', markevery = long_time)\n",
        "plt.plot(y.values, 'v', markersize=7, color='green', label = 'selling signal', markevery = short_time)\n",
        "plt.xlabel('Time')\n",
        "plt.legend()\n",
        "plt.show()"
      ]
    },
    {
      "cell_type": "markdown",
      "metadata": {
        "id": "uevzLFOED3wt"
      },
      "source": [
        "### Random Bechmark Profitability visualization"
      ]
    },
    {
      "cell_type": "code",
      "execution_count": null,
      "metadata": {
        "id": "hU1DvjM4HhHP"
      },
      "outputs": [],
      "source": [
        "long_time = []\n",
        "short_time = []\n",
        "\n",
        "benchmark_random_trading(data1, y, budget = budget)"
      ]
    },
    {
      "cell_type": "code",
      "execution_count": null,
      "metadata": {
        "id": "CXbaeClGHhHY"
      },
      "outputs": [],
      "source": [
        "plt.figure(figsize=(20,10))\n",
        "plt.plot(y.values, color = 'blue', label = stock_name, lw=2.)  \n",
        "plt.plot(y.values, '^', markersize=7, color='red', label = 'buying signal', markevery = long_time)\n",
        "plt.plot(y.values, 'v', markersize=7, color='green', label = 'selling signal', markevery = short_time)\n",
        "plt.xlabel('Time')\n",
        "plt.legend()\n",
        "plt.show()"
      ]
    },
    {
      "cell_type": "markdown",
      "metadata": {
        "id": "EbC5ofM6D7uc"
      },
      "source": [
        "### Systematic Trading Bechmark Profitability visualization"
      ]
    },
    {
      "cell_type": "code",
      "execution_count": null,
      "metadata": {
        "id": "SGHjJeA2QFkv"
      },
      "outputs": [],
      "source": [
        "long_time = []\n",
        "short_time = []\n",
        "\n",
        "benchmark_systematic_trading(data1, y, len(data1))"
      ]
    },
    {
      "cell_type": "code",
      "execution_count": null,
      "metadata": {
        "id": "aXTr7YzMQU40"
      },
      "outputs": [],
      "source": [
        "plt.figure(figsize=(20,10))\n",
        "plt.plot(y.values, color = 'blue', label = stock_name, lw=2.)  \n",
        "plt.plot(y.values, '^', markersize=7, color='red', label = 'buying signal', markevery = long_time)\n",
        "plt.plot(y.values, 'v', markersize=7, color='green', label = 'selling signal', markevery = short_time)\n",
        "plt.xlabel('Time')\n",
        "plt.legend()\n",
        "plt.show()"
      ]
    }
  ],
  "metadata": {
    "accelerator": "GPU",
    "colab": {
      "machine_shape": "hm",
      "toc_visible": true,
      "provenance": [],
      "include_colab_link": true
    },
    "gpuClass": "standard",
    "kernelspec": {
      "display_name": "Python 3",
      "name": "python3"
    },
    "widgets": {
      "application/vnd.jupyter.widget-state+json": {
        "d0b977c76500421b829d1cc28b5d913e": {
          "model_module": "@jupyter-widgets/controls",
          "model_name": "HBoxModel",
          "model_module_version": "1.5.0",
          "state": {
            "_dom_classes": [],
            "_model_module": "@jupyter-widgets/controls",
            "_model_module_version": "1.5.0",
            "_model_name": "HBoxModel",
            "_view_count": null,
            "_view_module": "@jupyter-widgets/controls",
            "_view_module_version": "1.5.0",
            "_view_name": "HBoxView",
            "box_style": "",
            "children": [
              "IPY_MODEL_e8317d718109409593a46c772014b367",
              "IPY_MODEL_0734062004cd4388ad1bb9d89e30ada8",
              "IPY_MODEL_2654f9567c3a4041bae4d4eed2847756"
            ],
            "layout": "IPY_MODEL_c0d9ea1dad674b0b9aed29d442f5b8ad"
          }
        },
        "e8317d718109409593a46c772014b367": {
          "model_module": "@jupyter-widgets/controls",
          "model_name": "HTMLModel",
          "model_module_version": "1.5.0",
          "state": {
            "_dom_classes": [],
            "_model_module": "@jupyter-widgets/controls",
            "_model_module_version": "1.5.0",
            "_model_name": "HTMLModel",
            "_view_count": null,
            "_view_module": "@jupyter-widgets/controls",
            "_view_module_version": "1.5.0",
            "_view_name": "HTMLView",
            "description": "",
            "description_tooltip": null,
            "layout": "IPY_MODEL_3e682d5c24b744ebba15bd95a2722055",
            "placeholder": "​",
            "style": "IPY_MODEL_24248541d079490180d6075966daaaa4",
            "value": "  6%"
          }
        },
        "0734062004cd4388ad1bb9d89e30ada8": {
          "model_module": "@jupyter-widgets/controls",
          "model_name": "FloatProgressModel",
          "model_module_version": "1.5.0",
          "state": {
            "_dom_classes": [],
            "_model_module": "@jupyter-widgets/controls",
            "_model_module_version": "1.5.0",
            "_model_name": "FloatProgressModel",
            "_view_count": null,
            "_view_module": "@jupyter-widgets/controls",
            "_view_module_version": "1.5.0",
            "_view_name": "ProgressView",
            "bar_style": "",
            "description": "",
            "description_tooltip": null,
            "layout": "IPY_MODEL_454ca276b97b4478856f966ba62a941e",
            "max": 1137,
            "min": 0,
            "orientation": "horizontal",
            "style": "IPY_MODEL_4fb247a3a6f44575afe7acf732da8f2c",
            "value": 72
          }
        },
        "2654f9567c3a4041bae4d4eed2847756": {
          "model_module": "@jupyter-widgets/controls",
          "model_name": "HTMLModel",
          "model_module_version": "1.5.0",
          "state": {
            "_dom_classes": [],
            "_model_module": "@jupyter-widgets/controls",
            "_model_module_version": "1.5.0",
            "_model_name": "HTMLModel",
            "_view_count": null,
            "_view_module": "@jupyter-widgets/controls",
            "_view_module_version": "1.5.0",
            "_view_name": "HTMLView",
            "description": "",
            "description_tooltip": null,
            "layout": "IPY_MODEL_984aee1b655a4f02ac85a15cbacb6c19",
            "placeholder": "​",
            "style": "IPY_MODEL_af3ac7b5cbc540f9ae67f8bf8ef8058d",
            "value": " 72/1137 [00:16&lt;03:34,  4.97it/s]"
          }
        },
        "c0d9ea1dad674b0b9aed29d442f5b8ad": {
          "model_module": "@jupyter-widgets/base",
          "model_name": "LayoutModel",
          "model_module_version": "1.2.0",
          "state": {
            "_model_module": "@jupyter-widgets/base",
            "_model_module_version": "1.2.0",
            "_model_name": "LayoutModel",
            "_view_count": null,
            "_view_module": "@jupyter-widgets/base",
            "_view_module_version": "1.2.0",
            "_view_name": "LayoutView",
            "align_content": null,
            "align_items": null,
            "align_self": null,
            "border": null,
            "bottom": null,
            "display": null,
            "flex": null,
            "flex_flow": null,
            "grid_area": null,
            "grid_auto_columns": null,
            "grid_auto_flow": null,
            "grid_auto_rows": null,
            "grid_column": null,
            "grid_gap": null,
            "grid_row": null,
            "grid_template_areas": null,
            "grid_template_columns": null,
            "grid_template_rows": null,
            "height": null,
            "justify_content": null,
            "justify_items": null,
            "left": null,
            "margin": null,
            "max_height": null,
            "max_width": null,
            "min_height": null,
            "min_width": null,
            "object_fit": null,
            "object_position": null,
            "order": null,
            "overflow": null,
            "overflow_x": null,
            "overflow_y": null,
            "padding": null,
            "right": null,
            "top": null,
            "visibility": null,
            "width": null
          }
        },
        "3e682d5c24b744ebba15bd95a2722055": {
          "model_module": "@jupyter-widgets/base",
          "model_name": "LayoutModel",
          "model_module_version": "1.2.0",
          "state": {
            "_model_module": "@jupyter-widgets/base",
            "_model_module_version": "1.2.0",
            "_model_name": "LayoutModel",
            "_view_count": null,
            "_view_module": "@jupyter-widgets/base",
            "_view_module_version": "1.2.0",
            "_view_name": "LayoutView",
            "align_content": null,
            "align_items": null,
            "align_self": null,
            "border": null,
            "bottom": null,
            "display": null,
            "flex": null,
            "flex_flow": null,
            "grid_area": null,
            "grid_auto_columns": null,
            "grid_auto_flow": null,
            "grid_auto_rows": null,
            "grid_column": null,
            "grid_gap": null,
            "grid_row": null,
            "grid_template_areas": null,
            "grid_template_columns": null,
            "grid_template_rows": null,
            "height": null,
            "justify_content": null,
            "justify_items": null,
            "left": null,
            "margin": null,
            "max_height": null,
            "max_width": null,
            "min_height": null,
            "min_width": null,
            "object_fit": null,
            "object_position": null,
            "order": null,
            "overflow": null,
            "overflow_x": null,
            "overflow_y": null,
            "padding": null,
            "right": null,
            "top": null,
            "visibility": null,
            "width": null
          }
        },
        "24248541d079490180d6075966daaaa4": {
          "model_module": "@jupyter-widgets/controls",
          "model_name": "DescriptionStyleModel",
          "model_module_version": "1.5.0",
          "state": {
            "_model_module": "@jupyter-widgets/controls",
            "_model_module_version": "1.5.0",
            "_model_name": "DescriptionStyleModel",
            "_view_count": null,
            "_view_module": "@jupyter-widgets/base",
            "_view_module_version": "1.2.0",
            "_view_name": "StyleView",
            "description_width": ""
          }
        },
        "454ca276b97b4478856f966ba62a941e": {
          "model_module": "@jupyter-widgets/base",
          "model_name": "LayoutModel",
          "model_module_version": "1.2.0",
          "state": {
            "_model_module": "@jupyter-widgets/base",
            "_model_module_version": "1.2.0",
            "_model_name": "LayoutModel",
            "_view_count": null,
            "_view_module": "@jupyter-widgets/base",
            "_view_module_version": "1.2.0",
            "_view_name": "LayoutView",
            "align_content": null,
            "align_items": null,
            "align_self": null,
            "border": null,
            "bottom": null,
            "display": null,
            "flex": null,
            "flex_flow": null,
            "grid_area": null,
            "grid_auto_columns": null,
            "grid_auto_flow": null,
            "grid_auto_rows": null,
            "grid_column": null,
            "grid_gap": null,
            "grid_row": null,
            "grid_template_areas": null,
            "grid_template_columns": null,
            "grid_template_rows": null,
            "height": null,
            "justify_content": null,
            "justify_items": null,
            "left": null,
            "margin": null,
            "max_height": null,
            "max_width": null,
            "min_height": null,
            "min_width": null,
            "object_fit": null,
            "object_position": null,
            "order": null,
            "overflow": null,
            "overflow_x": null,
            "overflow_y": null,
            "padding": null,
            "right": null,
            "top": null,
            "visibility": null,
            "width": null
          }
        },
        "4fb247a3a6f44575afe7acf732da8f2c": {
          "model_module": "@jupyter-widgets/controls",
          "model_name": "ProgressStyleModel",
          "model_module_version": "1.5.0",
          "state": {
            "_model_module": "@jupyter-widgets/controls",
            "_model_module_version": "1.5.0",
            "_model_name": "ProgressStyleModel",
            "_view_count": null,
            "_view_module": "@jupyter-widgets/base",
            "_view_module_version": "1.2.0",
            "_view_name": "StyleView",
            "bar_color": null,
            "description_width": ""
          }
        },
        "984aee1b655a4f02ac85a15cbacb6c19": {
          "model_module": "@jupyter-widgets/base",
          "model_name": "LayoutModel",
          "model_module_version": "1.2.0",
          "state": {
            "_model_module": "@jupyter-widgets/base",
            "_model_module_version": "1.2.0",
            "_model_name": "LayoutModel",
            "_view_count": null,
            "_view_module": "@jupyter-widgets/base",
            "_view_module_version": "1.2.0",
            "_view_name": "LayoutView",
            "align_content": null,
            "align_items": null,
            "align_self": null,
            "border": null,
            "bottom": null,
            "display": null,
            "flex": null,
            "flex_flow": null,
            "grid_area": null,
            "grid_auto_columns": null,
            "grid_auto_flow": null,
            "grid_auto_rows": null,
            "grid_column": null,
            "grid_gap": null,
            "grid_row": null,
            "grid_template_areas": null,
            "grid_template_columns": null,
            "grid_template_rows": null,
            "height": null,
            "justify_content": null,
            "justify_items": null,
            "left": null,
            "margin": null,
            "max_height": null,
            "max_width": null,
            "min_height": null,
            "min_width": null,
            "object_fit": null,
            "object_position": null,
            "order": null,
            "overflow": null,
            "overflow_x": null,
            "overflow_y": null,
            "padding": null,
            "right": null,
            "top": null,
            "visibility": null,
            "width": null
          }
        },
        "af3ac7b5cbc540f9ae67f8bf8ef8058d": {
          "model_module": "@jupyter-widgets/controls",
          "model_name": "DescriptionStyleModel",
          "model_module_version": "1.5.0",
          "state": {
            "_model_module": "@jupyter-widgets/controls",
            "_model_module_version": "1.5.0",
            "_model_name": "DescriptionStyleModel",
            "_view_count": null,
            "_view_module": "@jupyter-widgets/base",
            "_view_module_version": "1.2.0",
            "_view_name": "StyleView",
            "description_width": ""
          }
        }
      }
    }
  },
  "nbformat": 4,
  "nbformat_minor": 0
}