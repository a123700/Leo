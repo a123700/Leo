{
  "nbformat": 4,
  "nbformat_minor": 0,
  "metadata": {
    "colab": {
      "provenance": [],
      "authorship_tag": "ABX9TyOxDlg1Lziwkk/Hwy8E2isq",
      "include_colab_link": true
    },
    "kernelspec": {
      "name": "python3",
      "display_name": "Python 3"
    },
    "language_info": {
      "name": "python"
    }
  },
  "cells": [
    {
      "cell_type": "markdown",
      "metadata": {
        "id": "view-in-github",
        "colab_type": "text"
      },
      "source": [
        "<a href=\"https://colab.research.google.com/github/a123700/Leo/blob/master/Monte_Carlo_Variance_Reduction_Methods_%E2%80%93_Control_Variates.ipynb\" target=\"_parent\"><img src=\"https://colab.research.google.com/assets/colab-badge.svg\" alt=\"Open In Colab\"/></a>"
      ]
    },
    {
      "cell_type": "code",
      "source": [
        "!pip install -q py_vollib"
      ],
      "metadata": {
        "colab": {
          "base_uri": "https://localhost:8080/"
        },
        "id": "e_R1J0Fal__u",
        "outputId": "46d9713c-90c2-4773-c943-7449b93939c1"
      },
      "execution_count": null,
      "outputs": [
        {
          "output_type": "stream",
          "name": "stdout",
          "text": [
            "\u001b[?25l\r\u001b[K     |██▍                             | 10 kB 22.0 MB/s eta 0:00:01\r\u001b[K     |████▊                           | 20 kB 8.6 MB/s eta 0:00:01\r\u001b[K     |███████                         | 30 kB 12.0 MB/s eta 0:00:01\r\u001b[K     |█████████▍                      | 40 kB 4.6 MB/s eta 0:00:01\r\u001b[K     |███████████▊                    | 51 kB 4.7 MB/s eta 0:00:01\r\u001b[K     |██████████████                  | 61 kB 5.5 MB/s eta 0:00:01\r\u001b[K     |████████████████▍               | 71 kB 6.1 MB/s eta 0:00:01\r\u001b[K     |██████████████████▊             | 81 kB 6.8 MB/s eta 0:00:01\r\u001b[K     |█████████████████████           | 92 kB 7.3 MB/s eta 0:00:01\r\u001b[K     |███████████████████████▍        | 102 kB 7.0 MB/s eta 0:00:01\r\u001b[K     |█████████████████████████▊      | 112 kB 7.0 MB/s eta 0:00:01\r\u001b[K     |████████████████████████████    | 122 kB 7.0 MB/s eta 0:00:01\r\u001b[K     |██████████████████████████████▍ | 133 kB 7.0 MB/s eta 0:00:01\r\u001b[K     |████████████████████████████████| 139 kB 7.0 MB/s \n",
            "\u001b[?25h  Building wheel for py-vollib (setup.py) ... \u001b[?25l\u001b[?25hdone\n",
            "  Building wheel for py-lets-be-rational (setup.py) ... \u001b[?25l\u001b[?25hdone\n"
          ]
        }
      ]
    },
    {
      "cell_type": "code",
      "execution_count": null,
      "metadata": {
        "id": "fWszVjzpl5-i"
      },
      "outputs": [],
      "source": [
        "# Import dependencies\n",
        "import math\n",
        "import numpy as np\n",
        "import pandas as pd\n",
        "import datetime\n",
        "import scipy.stats as stats\n",
        "import matplotlib.pyplot as plt\n",
        "from py_vollib.black_scholes.implied_volatility import implied_volatility as iv\n",
        "from py_vollib.black_scholes import black_scholes as bs\n",
        "from py_vollib.black_scholes.greeks.analytical import vega, delta"
      ]
    },
    {
      "cell_type": "code",
      "source": [
        "# initial derivative parameters \n",
        "S = 101.15          #stock price\n",
        "K = 98.01           #strike price\n",
        "vol = 0.0991        #volatility (%)\n",
        "r = 0.015            #risk-free rate (%)\n",
        "N = 10              #number of time steps\n",
        "M = 1000            #number of simulations\n",
        "\n",
        "market_value = 3.86 #market price of option\n",
        "T = ((datetime.date(2022,3,17)-datetime.date(2022,1,17)).days+1)/365    #time in years\n",
        "print(T)"
      ],
      "metadata": {
        "colab": {
          "base_uri": "https://localhost:8080/"
        },
        "id": "xMv1FxxPl-Y6",
        "outputId": "dd4d3fd2-a2df-4606-cd2b-994a2f6b0deb"
      },
      "execution_count": null,
      "outputs": [
        {
          "output_type": "stream",
          "name": "stdout",
          "text": [
            "0.1643835616438356\n"
          ]
        }
      ]
    },
    {
      "cell_type": "code",
      "source": [
        "def delta_calc(r, S, K, T, sigma, type=\"c\"):\n",
        "    \"Calculate delta of an option\"\n",
        "    d1 = (np.log(S/K) + (r + sigma**2/2)*T)/(sigma*np.sqrt(T))\n",
        "    try:\n",
        "        if type == \"c\":\n",
        "            delta_calc = stats.norm.cdf(d1, 0, 1)\n",
        "        elif type == \"p\":\n",
        "            delta_calc = -stats.norm.cdf(-d1, 0, 1)\n",
        "        return delta_calc\n",
        "    except:\n",
        "        print(\"Please confirm option type, either 'c' for Call or 'p' for Put!\")"
      ],
      "metadata": {
        "id": "AhBJjKowmIXh"
      },
      "execution_count": null,
      "outputs": []
    },
    {
      "cell_type": "code",
      "source": [
        "#precompute constants\n",
        "N = 1\n",
        "dt = T/N\n",
        "nudt = (r - 0.5*vol**2)*dt\n",
        "volsdt = vol*np.sqrt(dt)\n",
        "\n",
        "erdt = np.exp(r*dt)\n",
        "cv = 0\n",
        "beta1 = -1\n",
        "\n",
        "# Monte Carlo Method\n",
        "Z = np.random.normal(size=(N, M)) \n",
        "delta_St = nudt + volsdt*Z\n",
        "ST = S*np.cumprod( np.exp(delta_St), axis=0)\n",
        "ST = np.concatenate( (np.full(shape=(1, M), fill_value=S), ST ) )\n",
        "deltaSt = delta_calc(r, ST[:-1].T, K, np.linspace(T,0,N), vol, \"c\").T\n",
        "cv = np.cumsum(deltaSt*(ST[1:] - ST[:-1]*erdt), axis=0)\n",
        "\n",
        "\n",
        "CT = np.maximum(0, ST[-1] - K) + beta1*cv[-1]\n",
        "# CT = np.maximum(0, ST[-1] - K)\n",
        "C0 = np.exp(-r*T)*np.sum(CT)/M\n",
        "\n",
        "sigma = np.sqrt( np.sum( (np.exp(-r*T)*CT - C0)**2) / (M-1) )\n",
        "sigma = np.std(np.exp(-r*T)*CT)\n",
        "SE = sigma/np.sqrt(M)\n",
        "\n",
        "print(\"Call value is ${0} with SE +/- {1}\".format(np.round(C0,2),np.round(SE,3)))"
      ],
      "metadata": {
        "colab": {
          "base_uri": "https://localhost:8080/"
        },
        "id": "AtYLbgecmLLv",
        "outputId": "22ef97cb-2241-4f76-874e-a02fa56dbbbb"
      },
      "execution_count": null,
      "outputs": [
        {
          "output_type": "stream",
          "name": "stdout",
          "text": [
            "Call value is $3.85 with SE +/- 0.031\n"
          ]
        }
      ]
    },
    {
      "cell_type": "code",
      "source": [
        "#precompute constants\n",
        "N = 1\n",
        "dt = T/N\n",
        "nudt = (r - 0.5*vol**2)*dt\n",
        "volsdt = vol*np.sqrt(dt)\n",
        "\n",
        "# Monte Carlo Method\n",
        "Z = np.random.normal(size=(N, M)) \n",
        "delta_St = nudt + volsdt*Z\n",
        "ST = S*np.cumprod( np.exp(delta_St), axis=0)\n",
        "\n",
        "CTw = np.maximum(0, ST[-1] - K)\n",
        "C0w = np.exp(-r*T)*np.sum(CTw)/M\n",
        "\n",
        "sigma = np.sqrt( np.sum( (np.exp(-r*T)*CTw - C0w)**2) / (M-1) )\n",
        "SEw = sigma/np.sqrt(M)\n",
        "\n",
        "print(\"Call value is ${0} with SE +/- {1}\".format(np.round(C0w,2),np.round(SEw,3)))"
      ],
      "metadata": {
        "colab": {
          "base_uri": "https://localhost:8080/"
        },
        "id": "t5i5V524mMoZ",
        "outputId": "3ebe0345-9ace-4740-8a8d-1da80ae629fe"
      },
      "execution_count": null,
      "outputs": [
        {
          "output_type": "stream",
          "name": "stdout",
          "text": [
            "Call value is $3.96 with SE +/- 0.112\n"
          ]
        }
      ]
    },
    {
      "cell_type": "code",
      "source": [
        "x1 = np.linspace(C0-3*SE, C0-1*SE, 100)\n",
        "x2 = np.linspace(C0-1*SE, C0+1*SE, 100)\n",
        "x3 = np.linspace(C0+1*SE, C0+3*SE, 100)\n",
        "xw = np.linspace(C0w-3*SEw, C0w+3*SEw, 100)\n",
        "\n",
        "s1 = stats.norm.pdf(x1, C0, SE)\n",
        "s2 = stats.norm.pdf(x2, C0, SE)\n",
        "s3 = stats.norm.pdf(x3, C0, SE)\n",
        "sw = stats.norm.pdf(xw, C0w, SEw)\n",
        "\n",
        "plt.fill_between(x1, s1, color='tab:blue',label='> StDev')\n",
        "plt.fill_between(x2, s2, color='cornflowerblue',label='1 StDev')\n",
        "plt.fill_between(x3, s3, color='tab:blue')\n",
        "plt.plot(xw, sw, 'g-')\n",
        "plt.fill_between(xw, sw, alpha=0.2, color='tab:green', label='w/o Delta Variate')\n",
        "\n",
        "plt.plot([C0,C0],[0, max(s2)*1.1], 'k',\n",
        "        label='Theoretical Value')\n",
        "plt.plot([C0w,C0w],[0, max(s2)*1.1], color='tab:green',\n",
        "        label='Value w/o Delta Variate')\n",
        "plt.plot([market_value,market_value],[0, max(s2)*1.1], 'r',\n",
        "        label='Market Value')\n",
        "\n",
        "plt.ylabel(\"Probability\")\n",
        "plt.xlabel(\"Option Price\")\n",
        "plt.legend()\n",
        "plt.show()"
      ],
      "metadata": {
        "id": "kuJWcFTTmR3L",
        "outputId": "2498eaf4-487d-49d0-ea69-46057e8aa71a",
        "colab": {
          "base_uri": "https://localhost:8080/",
          "height": 279
        }
      },
      "execution_count": null,
      "outputs": [
        {
          "output_type": "display_data",
          "data": {
            "text/plain": [
              "<Figure size 432x288 with 1 Axes>"
            ],
            "image/png": "[encoded data removed]"
          },
          "metadata": {
            "needs_background": "light"
          }
        }
      ]
    }
  ]
}